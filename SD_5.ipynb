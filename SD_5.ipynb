{
  "nbformat": 4,
  "nbformat_minor": 0,
  "metadata": {
    "colab": {
      "provenance": [],
      "authorship_tag": "ABX9TyMRQVZal51Zooz72/G9adUl",
      "include_colab_link": true
    },
    "kernelspec": {
      "name": "python3",
      "display_name": "Python 3"
    },
    "language_info": {
      "name": "python"
    }
  },
  "cells": [
    {
      "cell_type": "markdown",
      "metadata": {
        "id": "view-in-github",
        "colab_type": "text"
      },
      "source": [
        "<a href=\"https://colab.research.google.com/github/clizardy/Struktur-Data/blob/main/SD_5.ipynb\" target=\"_parent\"><img src=\"https://colab.research.google.com/assets/colab-badge.svg\" alt=\"Open In Colab\"/></a>"
      ]
    },
    {
      "cell_type": "code",
      "execution_count": null,
      "metadata": {
        "id": "2h6UT0SN8CgM",
        "outputId": "99efeca3-e233-40d0-8842-d80872a8fc76",
        "colab": {
          "base_uri": "https://localhost:8080/"
        }
      },
      "outputs": [
        {
          "output_type": "stream",
          "name": "stdout",
          "text": [
            "Algoritma Pencarian | Indeks Ditemukan | Jumlah Perbandingan\n",
            "---------------------------------------------------------\n",
            "Linear Search       | 50              | 51\n",
            "Binary Search       | 50              | 6\n",
            "Jump Search         | 50              | 6\n"
          ]
        }
      ],
      "source": [
        "import random\n",
        "import math\n",
        "\n",
        "# 1. Membuat daftar berisi 100 angka acak dalam rentang 1-1000\n",
        "data = sorted(random.sample(range(1, 1001), 100))\n",
        "\n",
        "# 3. Menentukan angka target (elemen tengah)\n",
        "target = data[len(data) // 2]\n",
        "\n",
        "# a. Implementasi Linear Search\n",
        "def linear_search(arr, target):\n",
        "    comparisons = 0\n",
        "    for index, value in enumerate(arr):\n",
        "        comparisons += 1\n",
        "        if value == target:\n",
        "            return index, comparisons\n",
        "    return -1, comparisons\n",
        "\n",
        "# b. Implementasi Binary Search\n",
        "def binary_search(arr, target):\n",
        "    left, right = 0, len(arr) - 1\n",
        "    comparisons = 0\n",
        "    while left <= right:\n",
        "        mid = (left + right) // 2\n",
        "        comparisons += 1\n",
        "        if arr[mid] == target:\n",
        "            return mid, comparisons\n",
        "        elif arr[mid] < target:\n",
        "            left = mid + 1\n",
        "        else:\n",
        "            right = mid - 1\n",
        "    return -1, comparisons\n",
        "\n",
        "# c. Implementasi Jump Search\n",
        "def jump_search(arr, target):\n",
        "    n = len(arr)\n",
        "    step = int(math.sqrt(n))\n",
        "    prev = 0\n",
        "    comparisons = 0\n",
        "\n",
        "    # Melakukan lompatan\n",
        "    while arr[min(step, n) - 1] < target:\n",
        "        comparisons += 1\n",
        "        prev = step\n",
        "        step += int(math.sqrt(n))\n",
        "        if prev >= n:\n",
        "            return -1, comparisons\n",
        "\n",
        "    # Melakukan Linear Search dalam blok\n",
        "    while arr[prev] < target:\n",
        "        comparisons += 1\n",
        "        prev += 1\n",
        "        if prev == min(step, n):\n",
        "            return -1, comparisons\n",
        "\n",
        "    comparisons += 1  # Untuk perbandingan terakhir\n",
        "    if arr[prev] == target:\n",
        "        return prev, comparisons\n",
        "    return -1, comparisons\n",
        "\n",
        "# 5. Perbandingan & Analisis\n",
        "linear_index, linear_comparisons = linear_search(data, target)\n",
        "binary_index, binary_comparisons = binary_search(data, target)\n",
        "jump_index, jump_comparisons = jump_search(data, target)\n",
        "\n",
        "# Tabel perbandingan\n",
        "print(\"Algoritma Pencarian | Indeks Ditemukan | Jumlah Perbandingan\")\n",
        "print(\"---------------------------------------------------------\")\n",
        "print(f\"Linear Search       | {linear_index}              | {linear_comparisons}\")\n",
        "print(f\"Binary Search       | {binary_index}              | {binary_comparisons}\")\n",
        "print(f\"Jump Search         | {jump_index}              | {jump_comparisons}\")"
      ]
    }
  ]
}