{
  "nbformat": 4,
  "nbformat_minor": 0,
  "metadata": {
    "colab": {
      "provenance": [],
      "authorship_tag": "ABX9TyMmogl2TqhdCGNwsvF+aedi",
      "include_colab_link": true
    },
    "kernelspec": {
      "name": "python3",
      "display_name": "Python 3"
    },
    "language_info": {
      "name": "python"
    }
  },
  "cells": [
    {
      "cell_type": "markdown",
      "metadata": {
        "id": "view-in-github",
        "colab_type": "text"
      },
      "source": [
        "<a href=\"https://colab.research.google.com/github/clizardy/Struktur-Data/blob/main/24205060_Strukdat_Stack.ipynb\" target=\"_parent\"><img src=\"https://colab.research.google.com/assets/colab-badge.svg\" alt=\"Open In Colab\"/></a>"
      ]
    },
    {
      "cell_type": "code",
      "execution_count": null,
      "metadata": {
        "colab": {
          "base_uri": "https://localhost:8080/"
        },
        "id": "S3PC2PtR2JBQ",
        "outputId": "13914b4f-e8b1-4c5c-e818-d57c1bd129ca"
      },
      "outputs": [
        {
          "output_type": "stream",
          "name": "stdout",
          "text": [
            "[5]\n"
          ]
        }
      ],
      "source": [
        "class Stack:\n",
        "    def __init__(self):\n",
        "        self.stack = []\n",
        "\n",
        "    def push(self, item):\n",
        "        self.stack.append(item)\n",
        "\n",
        "# Contoh penggunaan\n",
        "s = Stack()\n",
        "s.push(5)\n",
        "print(s.stack)"
      ]
    },
    {
      "cell_type": "code",
      "source": [
        "class Stack:\n",
        "    def __init__(self):\n",
        "        self.stack = []\n",
        "\n",
        "    def push(self, item):\n",
        "        self.stack.append(item)"
      ],
      "metadata": {
        "id": "hu-oMWL73sxs"
      },
      "execution_count": null,
      "outputs": []
    },
    {
      "cell_type": "code",
      "source": [
        "class Stack:\n",
        "    def __init__(self):\n",
        "        self.stack = []\n",
        "\n",
        "    def push(self, item):\n",
        "        self.stack.append(item)\n",
        "\n",
        "    def pop(self):\n",
        "        if len(self.stack) == 0:\n",
        "             return \"Stack Kosong\"\n",
        "        return self.stack.pop()\n",
        "# Contoh penggunaan\n",
        "s = Stack()\n",
        "s.push(5)\n",
        "s.push(10)\n",
        "print(s.pop)\n",
        "print(s.stack)"
      ],
      "metadata": {
        "colab": {
          "base_uri": "https://localhost:8080/"
        },
        "id": "wbbdITcw7yGd",
        "outputId": "d4ef027a-910d-4691-a85d-d81dc99b6f24"
      },
      "execution_count": null,
      "outputs": [
        {
          "output_type": "stream",
          "name": "stdout",
          "text": [
            "<bound method Stack.pop of <__main__.Stack object at 0x7c2cdd636f10>>\n",
            "[5, 10]\n"
          ]
        }
      ]
    },
    {
      "cell_type": "code",
      "source": [
        "class Stack:\n",
        "    def __init__(self):\n",
        "         self.stack = []\n",
        "\n",
        "    def push(self, item):\n",
        "        self.stack.append(item)\n",
        "\n",
        "    def pop(self):\n",
        "        if len(self.stack) == 0:\n",
        "            return \"Stack Kosong\"\n",
        "        return self.stack.pop()\n",
        "\n",
        "    def peek(self):\n",
        "        if len(self.stack) == 0:\n",
        "            return \"Stack Kosong\"\n",
        "        return self.stack[-1]\n",
        "# Contoh penggunaan\n",
        "s = Stack()\n",
        "s.push(5)\n",
        "s.push(10)\n",
        "print(s.peek()) # Output: 10\n",
        "print(s.stack) # Stack tetap [5, 10]"
      ],
      "metadata": {
        "colab": {
          "base_uri": "https://localhost:8080/"
        },
        "id": "J7URgogm9mYf",
        "outputId": "de202d5f-610f-4f19-e0d9-2c1d45a0c85c"
      },
      "execution_count": null,
      "outputs": [
        {
          "output_type": "stream",
          "name": "stdout",
          "text": [
            "10\n",
            "[5, 10]\n"
          ]
        }
      ]
    },
    {
      "cell_type": "code",
      "source": [
        "class Stack:\n",
        "    def __init__(self):\n",
        "        self.stack = []\n",
        "\n",
        "    def is_empty(self):\n"
      ],
      "metadata": {
        "id": "-QgyxKk-_Pid"
      },
      "execution_count": null,
      "outputs": []
    },
    {
      "cell_type": "code",
      "source": [
        "class Gudang:\n",
        "    def _init_(self, npm):\n",
        "        self.npm = npm\n",
        "        self.items = []\n",
        "\n",
        "    def menambah_barang(self, item):\n",
        "        if len(self.items) < self.npm:\n",
        "            self.items.append(item)\n",
        "            print(f\"Barang '{item}' berhasil ditambahkan ke gudang.\")\n",
        "        else:\n",
        "            print(\"Gudang sudah penuh. Tidak bisa menambahkan barang.\")\n",
        "\n",
        "    def menghapus_barang(self):\n",
        "        if self.is_empty():\n",
        "            print(\"Gudang kosong. Tidak ada barang untuk diambil.\")\n",
        "            return None\n",
        "        return self.items.pop()\n",
        "\n",
        "    def is_empty(self):\n",
        "        return len(self.items) == 0\n",
        "\n",
        "    def melihat_gudang(self):\n",
        "        if self.is_empty():\n",
        "            print(\"Gudang kosong.\")\n",
        "            return None\n",
        "        return self.items[-1]\n",
        "\n",
        "    def display(self):\n",
        "        if self.is_empty():\n",
        "            print(\"Gudang kosong.\")\n",
        "        else:\n",
        "            print(\"Barang dalam gudang:\")\n",
        "            for item in reversed(self.items):\n",
        "                print(f\"- {item}\")\n",
        "\n",
        "def main():\n",
        "    npm = int(input(\"Masukkan Dua Digit terakhir NPM sebagai jumlah maksimal barang: \"))\n",
        "    gudang = Gudang(npm)\n",
        "\n",
        "    while True:\n",
        "        print(\"\\nMenu:\")\n",
        "        print(\"1. Tambah Barang (Push)\")\n",
        "        print(\"2. Ambil Barang (Pop)\")\n",
        "        print(\"3. Lihat Barang Terakhir (Peek)\")\n",
        "        print(\"4. Tampilkan Semua Barang\")\n",
        "        print(\"5. Exit\")\n",
        "\n",
        "        choice = input(\"Pilih opsi (1-5): \")\n",
        "\n",
        "        if choice == '1':\n",
        "            item = input(\"Masukkan nama barang yang ingin ditambahkan: \")\n",
        "            gudang.menambah_barang(item)\n",
        "        elif choice == '2':\n",
        "            item = gudang.menghapus_barang()\n",
        "            if item:\n",
        "                print(f\"Barang '{item}' berhasil diambil dari gudang.\")\n",
        "        elif choice == '3':\n",
        "            item = gudang.melihat_gudang()\n",
        "            if item:\n",
        "                print(f\"Barang terakhir dalam gudang: {item}\")\n",
        "        elif choice == '4':\n",
        "            gudang.display()\n",
        "        elif choice == '5':\n",
        "            print(\"Keluar dari program.\")\n",
        "            print(\"Barang yang ada di gudang saat ini:\")\n",
        "            gudang.display()\n",
        "            break\n",
        "        else:\n",
        "            print(\"Pilihan tidak valid. Silakan pilih opsi yang benar.\")\n",
        "\n",
        "if \"_name_\" == \"_main_\" :\n",
        "    main()"
      ],
      "metadata": {
        "id": "4xVJIPUmFBVf"
      },
      "execution_count": null,
      "outputs": []
    },
    {
      "cell_type": "code",
      "source": [],
      "metadata": {
        "id": "Hsl_M58qFd8q"
      },
      "execution_count": null,
      "outputs": []
    }
  ]
}