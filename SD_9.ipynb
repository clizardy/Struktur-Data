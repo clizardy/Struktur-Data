{
  "nbformat": 4,
  "nbformat_minor": 0,
  "metadata": {
    "colab": {
      "provenance": [],
      "authorship_tag": "ABX9TyOa03kbupkAG0YJMLYpR7TC",
      "include_colab_link": true
    },
    "kernelspec": {
      "name": "python3",
      "display_name": "Python 3"
    },
    "language_info": {
      "name": "python"
    }
  },
  "cells": [
    {
      "cell_type": "markdown",
      "metadata": {
        "id": "view-in-github",
        "colab_type": "text"
      },
      "source": [
        "<a href=\"https://colab.research.google.com/github/clizardy/Struktur-Data/blob/main/SD_9.ipynb\" target=\"_parent\"><img src=\"https://colab.research.google.com/assets/colab-badge.svg\" alt=\"Open In Colab\"/></a>"
      ]
    },
    {
      "cell_type": "code",
      "execution_count": null,
      "metadata": {
        "id": "u803TlmnDWus"
      },
      "outputs": [],
      "source": [
        "class LinearProbingHashTable:\n",
        "    def __init__(self, size):\n",
        "        self.size = size\n",
        "        self.table = [None] * size\n",
        "\n",
        "    def hash_function(self, key):\n",
        "        return hash (key) % self.size\n",
        "\n",
        "    def insert(self, key, value):\n",
        "        index = self.hash_function(key)\n",
        "        original_index = index\n",
        "\n",
        "        # Loop untuk mencari slot kosong atau key yang sudah ada\n",
        "        while self.table[index] is not None:\n",
        "            # Jika key sudah ada, keluar dari loop (akan diupdate di bawah)\n",
        "            if self.table[index][0] == key:\n",
        "                break\n",
        "\n",
        "            # Pindah ke slot berikutnya (linear probing)\n",
        "            index = (index + 1) % self.size\n",
        "\n",
        "            # Jika sudah kembali ke indeks awal, berarti tabel penuh\n",
        "            if index == original_index:\n",
        "                raise Exception(\"Hash table penuh\")\n",
        "\n",
        "        # Masukkan atau perbarui pasangan (key, value)\n",
        "        self.table[index] = (key, value)\n",
        "\n",
        "    def search(self, key):\n",
        "        index = self.hash_function(key)\n",
        "        original_index = index\n",
        "\n",
        "        # Loop untuk mencari key atau slot kosong\n",
        "        while self.table[index] is not None:\n",
        "            # Jika key ditemukan, kembalikan value-nya\n",
        "            if self.table[index][0] == key:\n",
        "                return self.table[index][1]\n",
        "\n",
        "            # Pindah ke slot berikutnya (linear probing)\n",
        "            index = (index + 1) % self.size\n",
        "\n",
        "            # Jika sudah kembali ke indeks awal, berarti key tidak ditemukan\n",
        "            if index == original_index:\n",
        "                break\n",
        "\n",
        "        # Jika key tidak ditemukan setelah pencarian\n",
        "        return None\n",
        "\n",
        "# Contoh penggunaan dan modifikasi sesuai instruksi:\n",
        "# a. Buat objek LinearProbingHashTable dengan ukuran tabel 5.\n",
        "ht = LinearProbingHashTable(5)\n",
        "\n",
        "# b. Masukkan pasangan key-value berikut: \"A\": 10, \"B\": 20, \"C\": 30, \"D\": 40, \"E\": 50\n",
        "ht.insert(\"A\", 10)\n",
        "ht.insert(\"B\", 20)\n",
        "ht.insert(\"C\", 30)\n",
        "ht.insert(\"D\", 40)\n",
        "ht.insert(\"E\", 50)\n",
        "\n",
        "# c. Cetak isi array self.table setelah semua data dimasukkan.\n",
        "print(\"Isi array self.table setelah semua data dimasukkan:\")\n",
        "print(ht.table)\n",
        "\n",
        "# Contoh pencarian tambahan dari kode sebelumnya\n",
        "print(\"\\nNilai untuk 'apel':\", ht.search(\"apel\")) # Ini akan None karena tidak dimasukkan\n",
        "print(\"Nilai untuk 'melon':\", ht.search(\"melon\")) # Ini akan None karena tidak dimasukkan\n",
        "print(\"Nilai untuk 'A':\", ht.search(\"A\"))\n",
        "print(\"Nilai untuk 'E':\", ht.search(\"E\"))"
      ]
    },
    {
      "cell_type": "code",
      "source": [
        "class ChainingHashTable:\n",
        "    def __init__(self, size):\n",
        "        self.size = size\n",
        "        self.table = [[] for _ in range(size)] # Menggunakan '_' sebagai variabel loop yang tidak digunakan\n",
        "\n",
        "    def hash_function(self, key):\n",
        "        return hash(key) % self.size\n",
        "\n",
        "    def insert(self, key, value):\n",
        "        index = self.hash_function(key)\n",
        "\n",
        "        # Iterasi melalui rantai (list) di indeks yang dihitung\n",
        "        for i, (k, v) in enumerate(self.table[index]):\n",
        "            if k == key:\n",
        "                # Jika key sudah ada, perbarui nilainya\n",
        "                self.table[index][i] = (key, value)\n",
        "                return # Keluar dari fungsi setelah memperbarui\n",
        "\n",
        "        # Jika key belum ada dalam rantai, tambahkan sebagai elemen baru\n",
        "        self.table[index].append((key, value))\n",
        "\n",
        "    def search(self, key):\n",
        "        index = self.hash_function(key)\n",
        "\n",
        "        # Iterasi melalui rantai di indeks yang dihitung\n",
        "        for k, v in self.table[index]:\n",
        "            if k == key:\n",
        "                return v # Kembalikan nilai jika key ditemukan\n",
        "\n",
        "        return None # Kembalikan None jika key tidak ditemukan dalam rantai\n",
        "\n",
        "# Contoh penggunaan dan modifikasi sesuai instruksi:\n",
        "\n",
        "# a. Gunakan ukuran tabel 3.\n",
        "ht = ChainingHashTable(3) # Ukuran tabel diubah menjadi 3\n",
        "\n",
        "# b. Masukkan key-value berikut: \"apel\": 100, \"melon\": 200, \"lemon\": 300, \"pisang\": 400\n",
        "ht.insert(\"apel\", 100)\n",
        "ht.insert(\"melon\", 200)\n",
        "ht.insert(\"lemon\", 300)\n",
        "ht.insert(\"pisang\", 400)\n",
        "\n",
        "# c. Cetak isi tabel (self.table) dan tampilkan semua data yang disimpan di setiap slot.\n",
        "print(\"Isi tabel (self.table) setelah semua data dimasukkan:\")\n",
        "for i, chain in enumerate(ht.table):\n",
        "    print(f\"Slot {i}: {chain}\")\n",
        "\n",
        "# Contoh pencarian\n",
        "print(\"\\nNilai untuk 'apel':\", ht.search(\"apel\"))\n",
        "print(\"Nilai untuk 'melon':\", ht.search(\"melon\"))\n",
        "print(\"Nilai untuk 'lemon':\", ht.search(\"lemon\"))\n",
        "print(\"Nilai untuk 'pisang':\", ht.search(\"pisang\"))\n",
        "print(\"Nilai untuk 'anggur':\", ht.search(\"anggur\")) # Contoh key yang tidak ada"
      ],
      "metadata": {
        "id": "ALAbylx1De43"
      },
      "execution_count": null,
      "outputs": []
    },
    {
      "cell_type": "code",
      "source": [
        "class ChainingHashTable:\n",
        "    def __init__ (self, size):\n",
        "        self.size = size\n",
        "        self.table = [[] for _ in range(size)]"
      ],
      "metadata": {
        "id": "iVaOJ9X2W6yq"
      },
      "execution_count": 1,
      "outputs": []
    },
    {
      "cell_type": "code",
      "source": [
        "class ChainingHashTable:\n",
        "    def __init__ (self, size):\n",
        "        self.size = size\n",
        "        self.table = [[] for _ in range(size)]\n",
        "    def hash_function(self, key):\n",
        "        return hash (key) % self.size\n",
        "\n",
        "    def insert(self, key, value):\n",
        "        index = self.hash_function (key)\n",
        "        for i, (k, v) in enumerate (self.table[index]):\n",
        "            if k == key:\n",
        "                self.table[index] [i] = (key, value)\n",
        "                return\n",
        "        self.table[index].append((key, value))\n",
        "    def search(self, key):\n",
        "        index = self.hash_function (key)\n",
        "        for k, v in self.table[index]:\n",
        "            if k == key:\n",
        "                return v\n",
        "        return None\n",
        "# Contoh penggunaan\n",
        "ht = ChainingHashTable(5)\n",
        "ht.insert(\"apel\", 100)\n",
        "ht.insert(\"pisang\", 200)\n",
        "ht.insert(\"melon\", 300)\n",
        "print(\"Nilai untuk 'apel':\", ht.search(\"apel\"))\n",
        "print (\"Nilai untuk 'melon':\", ht.search(\"melon\"))"
      ],
      "metadata": {
        "colab": {
          "base_uri": "https://localhost:8080/"
        },
        "id": "814Zl2d_W9Q5",
        "outputId": "7ba0fbe9-fd01-489b-9213-e16dc38dba19"
      },
      "execution_count": 9,
      "outputs": [
        {
          "output_type": "stream",
          "name": "stdout",
          "text": [
            "Nilai untuk 'apel': 100\n",
            "Nilai untuk 'melon': 300\n"
          ]
        }
      ]
    },
    {
      "cell_type": "code",
      "source": [
        "class LinearProbingHashTable:\n",
        "    def __init__(self, size):\n",
        "        self.size = size\n",
        "        self.table = [None] * size\n",
        "    def hash_function(self, key):\n",
        "        return hash (key) % self.size\n",
        "    def insert(self, key, value):\n",
        "        index = self.hash_function(key)\n",
        "        original_index = index\n",
        "        # Loop untuk mencari slot kosong atau key yang sudah ada\n",
        "        while self.table[index] is not None:\n",
        "            # Jika key sudah ada, keluar dari loop (akan diupdate di bawah)\n",
        "            if self.table[index][0] == key:\n",
        "                break\n",
        "\n",
        "            # Pindah ke slot berikutnya (linear probing)\n",
        "            index = (index + 1) % self.size\n",
        "\n",
        "            # Jika sudah kembali ke indeks awal, berarti tabel penuh\n",
        "            if index == original_index:\n",
        "                raise Exception(\"Hash table penuh\")\n",
        "        # Masukkan atau perbarui pasangan (key, value)\n",
        "        self.table[index] = (key, value)\n",
        "    def search(self, key):\n",
        "        index = self.hash_function(key)\n",
        "        original_index = index\n",
        "        # Loop untuk mencari key atau slot kosong\n",
        "        while self.table[index] is not None:\n",
        "            # Jika key ditemukan, kembalikan value-nya\n",
        "            if self.table[index][0] == key:\n",
        "                return self.table[index][1]\n",
        "\n",
        "            # Pindah ke slot berikutnya (linear probing)\n",
        "            index = (index + 1) % self.size\n",
        "\n",
        "            # Jika sudah kembali ke indeks awal, berarti key tidak ditemukan\n",
        "            if index == original_index:\n",
        "                break\n",
        "        # Jika key tidak ditemukan setelah pencarian\n",
        "        return None\n",
        "# Contoh penggunaan dan modifikasi sesuai instruksi:\n",
        "# a. Buat objek LinearProbingHashTable dengan ukuran tabel 5.\n",
        "ht = LinearProbingHashTable(5)\n",
        "# b. Masukkan pasangan key-value berikut: \"A\": 10, \"B\": 20, \"C\": 30, \"D\": 40, \"E\": 50\n",
        "ht.insert(\"A\", 10)\n",
        "ht.insert(\"B\", 20)\n",
        "ht.insert(\"C\", 30)\n",
        "ht.insert(\"D\", 40)\n",
        "ht.insert(\"E\", 50)\n",
        "# c. Cetak isi array self.table setelah semua data dimasukkan.\n",
        "print(\"Isi array self.table setelah semua data dimasukkan:\")\n",
        "print(ht.table)\n",
        "# Contoh pencarian tambahan dari kode sebelumnya\n",
        "print(\"\\nNilai untuk 'apel':\", ht.search(\"apel\")) # Ini akan None karena tidak dimasukkan\n",
        "print(\"Nilai untuk 'melon':\", ht.search(\"melon\")) # Ini akan None karena tidak dimasukkan\n",
        "print(\"Nilai untuk 'A':\", ht.search(\"A\"))\n",
        "print(\"Nilai untuk 'E':\", ht.search(\"E\"))"
      ],
      "metadata": {
        "colab": {
          "base_uri": "https://localhost:8080/"
        },
        "id": "M5Sevz0dXN6L",
        "outputId": "489ae206-1b57-4a9d-97cf-ebb16f6d0b5b"
      },
      "execution_count": 12,
      "outputs": [
        {
          "output_type": "stream",
          "name": "stdout",
          "text": [
            "Isi array self.table setelah semua data dimasukkan:\n",
            "[('D', 40), ('B', 20), ('E', 50), ('C', 30), ('A', 10)]\n",
            "\n",
            "Nilai untuk 'apel': None\n",
            "Nilai untuk 'melon': None\n",
            "Nilai untuk 'A': 10\n",
            "Nilai untuk 'E': 50\n"
          ]
        }
      ]
    },
    {
      "cell_type": "code",
      "source": [
        "class ChainingHashTable:\n",
        "    def __init__(self, size):\n",
        "        self.size = size\n",
        "        self.table = [[] for _ in range(size)] # Menggunakan '_' sebagai variabel loop yang tidak digunakan\n",
        "    def hash_function(self, key):\n",
        "        return hash(key) % self.size\n",
        "\n",
        "    def insert(self, key, value):\n",
        "        index = self.hash_function(key)\n",
        "\n",
        "        # Iterasi melalui rantai (list) di indeks yang dihitung\n",
        "        for i, (k, v) in enumerate(self.table[index]):\n",
        "            if k == key:\n",
        "                # Jika key sudah ada, perbarui nilainya\n",
        "                self.table[index][i] = (key, value)\n",
        "                return # Keluar dari fungsi setelah memperbarui\n",
        "\n",
        "        # Jika key belum ada dalam rantai, tambahkan sebagai elemen baru\n",
        "        self.table[index].append((key, value))\n",
        "    def search(self, key):\n",
        "        index = self.hash_function(key)\n",
        "\n",
        "        # Iterasi melalui rantai di indeks yang dihitung\n",
        "        for k, v in self.table[index]:\n",
        "            if k == key:\n",
        "                return v # Kembalikan nilai jika key ditemukan\n",
        "\n",
        "        return None # Kembalikan None jika key tidak ditemukan dalam rantai\n",
        "# Contoh penggunaan dan modifikasi sesuai instruksi:\n",
        "# a. Gunakan ukuran tabel 3.\n",
        "ht = ChainingHashTable(3) # Ukuran tabel diubah menjadi 3\n",
        "# b. Masukkan key-value berikut: \"apel\": 100, \"melon\": 200, \"lemon\": 300, \"pisang\": 400\n",
        "ht.insert(\"apel\", 100)\n",
        "ht.insert(\"melon\", 200)\n",
        "ht.insert(\"lemon\", 300)\n",
        "ht.insert(\"pisang\", 400)\n",
        "# c. Cetak isi tabel (self.table) dan tampilkan semua data yang disimpan di setiap slot.\n",
        "print(\"Isi tabel (self.table) setelah semua data dimasukkan:\")\n",
        "for i, chain in enumerate(ht.table):\n",
        "    print(f\"Slot {i}: {chain}\")\n",
        "# Contoh pencarian\n",
        "print(\"\\nNilai untuk 'apel':\", ht.search(\"apel\"))\n",
        "print(\"Nilai untuk 'melon':\", ht.search(\"melon\"))\n",
        "print(\"Nilai untuk 'lemon':\", ht.search(\"lemon\"))\n",
        "print(\"Nilai untuk 'pisang':\", ht.search(\"pisang\"))\n",
        "print(\"Nilai untuk 'anggur':\", ht.search(\"anggur\")) # Contoh key yang tidak ada"
      ],
      "metadata": {
        "colab": {
          "base_uri": "https://localhost:8080/"
        },
        "id": "PIGMyDy9XWQR",
        "outputId": "9bc07f80-905d-4589-e3d3-d2cc13927abd"
      },
      "execution_count": 15,
      "outputs": [
        {
          "output_type": "stream",
          "name": "stdout",
          "text": [
            "Isi tabel (self.table) setelah semua data dimasukkan:\n",
            "Slot 0: []\n",
            "Slot 1: [('melon', 200), ('pisang', 400)]\n",
            "Slot 2: [('apel', 100), ('lemon', 300)]\n",
            "\n",
            "Nilai untuk 'apel': 100\n",
            "Nilai untuk 'melon': 200\n",
            "Nilai untuk 'lemon': 300\n",
            "Nilai untuk 'pisang': 400\n",
            "Nilai untuk 'anggur': None\n"
          ]
        }
      ]
    }
  ]
}