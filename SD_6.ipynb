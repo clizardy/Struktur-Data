{
  "nbformat": 4,
  "nbformat_minor": 0,
  "metadata": {
    "colab": {
      "provenance": [],
      "authorship_tag": "ABX9TyO6AZWKpGzBa8IDg8dhMisK",
      "include_colab_link": true
    },
    "kernelspec": {
      "name": "python3",
      "display_name": "Python 3"
    },
    "language_info": {
      "name": "python"
    }
  },
  "cells": [
    {
      "cell_type": "markdown",
      "metadata": {
        "id": "view-in-github",
        "colab_type": "text"
      },
      "source": [
        "<a href=\"https://colab.research.google.com/github/clizardy/Struktur-Data/blob/main/SD_6.ipynb\" target=\"_parent\"><img src=\"https://colab.research.google.com/assets/colab-badge.svg\" alt=\"Open In Colab\"/></a>"
      ]
    },
    {
      "cell_type": "code",
      "execution_count": null,
      "metadata": {
        "colab": {
          "base_uri": "https://localhost:8080/"
        },
        "id": "pnaW9YdP89e3",
        "outputId": "ca15e0d8-613b-470c-9553-d6e4921d8ae0"
      },
      "outputs": [
        {
          "output_type": "stream",
          "name": "stdout",
          "text": [
            "Sebelum diurutkan:\n",
            "[Ronald, Umur: 18, Total Belanja: 250000, Doni, Umur: 25, Total Belanja: 150000, Parman, Umur: 35, Total Belanja: 300000, David, Umur: 20, Total Belanja: 200000]\n",
            "\n",
            "Setelah diurutkan berdasarkan nama:\n",
            "[David, Umur: 20, Total Belanja: 200000, Doni, Umur: 25, Total Belanja: 150000, Parman, Umur: 35, Total Belanja: 300000, Ronald, Umur: 18, Total Belanja: 250000]\n",
            "\n",
            "Setelah diurutkan berdasarkan umur:\n",
            "[Ronald, Umur: 18, Total Belanja: 250000, David, Umur: 20, Total Belanja: 200000, Doni, Umur: 25, Total Belanja: 150000, Parman, Umur: 35, Total Belanja: 300000]\n",
            "\n",
            "Setelah diurutkan berdasarkan total belanja:\n",
            "[Doni, Umur: 25, Total Belanja: 150000, David, Umur: 20, Total Belanja: 200000, Ronald, Umur: 18, Total Belanja: 250000, Parman, Umur: 35, Total Belanja: 300000]\n"
          ]
        }
      ],
      "source": [
        "class Pelanggan:\n",
        "    def __init__(self, nama, umur, total_belanja):\n",
        "        self.nama = nama\n",
        "        self.umur = umur\n",
        "        self.total_belanja = total_belanja\n",
        "\n",
        "    def __repr__(self):\n",
        "        return f\"{self.nama}, Umur: {self.umur}, Total Belanja: {self.total_belanja}\"\n",
        "\n",
        "def bubble_sort(data, key):\n",
        "    n = len(data)\n",
        "    for i in range(n):\n",
        "        for j in range(0, n-i-1):\n",
        "            if key(data[j]) > key(data[j+1]):\n",
        "                data[j], data[j+1] = data[j+1], data[j]\n",
        "\n",
        "def sort_pelanggan(pelanggan_list, sort_by):\n",
        "    if sort_by == 'nama':\n",
        "        bubble_sort(pelanggan_list, lambda x: x.nama)\n",
        "    elif sort_by == 'umur':\n",
        "        bubble_sort(pelanggan_list, lambda x: x.umur)\n",
        "    elif sort_by == 'total_belanja':\n",
        "        bubble_sort(pelanggan_list, lambda x: x.total_belanja)\n",
        "    else:\n",
        "        print(\"Kriteria sorting tidak valid. Gunakan 'nama', 'umur', atau 'total_belanja'.\")\n",
        "\n",
        "# Contoh penggunaan\n",
        "pelanggan_list = [\n",
        "    Pelanggan(\"Ronald\", 18, 250000),\n",
        "    Pelanggan(\"Doni\", 25, 150000),\n",
        "    Pelanggan(\"Parman\", 35, 300000),\n",
        "    Pelanggan(\"David\", 20, 200000)\n",
        "]\n",
        "\n",
        "print(\"Sebelum diurutkan:\")\n",
        "print(pelanggan_list)\n",
        "\n",
        "# Mengurutkan berdasarkan nama\n",
        "sort_pelanggan(pelanggan_list, 'nama')\n",
        "print(\"\\nSetelah diurutkan berdasarkan nama:\")\n",
        "print(pelanggan_list)\n",
        "\n",
        "# Mengurutkan berdasarkan umur\n",
        "sort_pelanggan(pelanggan_list, 'umur')\n",
        "print(\"\\nSetelah diurutkan berdasarkan umur:\")\n",
        "print(pelanggan_list)\n",
        "\n",
        "# Mengurutkan berdasarkan total belanja\n",
        "sort_pelanggan(pelanggan_list, 'total_belanja')\n",
        "print(\"\\nSetelah diurutkan berdasarkan total belanja:\")\n",
        "print(pelanggan_list)"
      ]
    }
  ]
}