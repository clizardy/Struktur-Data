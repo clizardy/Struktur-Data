{
  "nbformat": 4,
  "nbformat_minor": 0,
  "metadata": {
    "colab": {
      "provenance": [],
      "authorship_tag": "ABX9TyN50c8PSbjM4P+Yygadaq7r",
      "include_colab_link": true
    },
    "kernelspec": {
      "name": "python3",
      "display_name": "Python 3"
    },
    "language_info": {
      "name": "python"
    }
  },
  "cells": [
    {
      "cell_type": "markdown",
      "metadata": {
        "id": "view-in-github",
        "colab_type": "text"
      },
      "source": [
        "<a href=\"https://colab.research.google.com/github/clizardy/Struktur-Data/blob/main/SD_1.ipynb\" target=\"_parent\"><img src=\"https://colab.research.google.com/assets/colab-badge.svg\" alt=\"Open In Colab\"/></a>"
      ]
    },
    {
      "cell_type": "code",
      "execution_count": null,
      "metadata": {
        "id": "sy0Z_vzhKz3z",
        "colab": {
          "base_uri": "https://localhost:8080/"
        },
        "outputId": "5fb0f551-e215-4e0e-d199-f66a94230995"
      },
      "outputs": [
        {
          "output_type": "stream",
          "name": "stdout",
          "text": [
            "isi array NPM [2420506032, 2420506033, 2420506034, 2420506035, 2420506036]\n"
          ]
        }
      ],
      "source": [
        "# latihan 1\n",
        "data = []\n",
        "NPM = [2420506032, 2420506033, 2420506034, 2420506035, 2420506036]\n",
        "print(\"isi array NPM\", NPM)"
      ]
    },
    {
      "cell_type": "code",
      "source": [
        "# Deklarasi array kosong\n",
        "number = []\n",
        "\n",
        "# Inisialisasi array dengan eleman\n",
        "number = [100, 200, 300, 400, 500]\n",
        "\n",
        "#Akses elemen\n",
        "print(\"First number\", number[0])\n",
        "print(\"Last number:\", number[-1])\n",
        "\n",
        "# Menambahkan elemen baru\n",
        "number.append(750)\n",
        "print(\"After append:\", number)\n",
        "\n",
        "# Menghapus elemen\n",
        "number.remove(200)\n",
        "print(\"After remove:\", number)\n",
        "\n",
        "# Iterasi array\n",
        "for value in number :\n",
        "    print(\"Value:\", value)"
      ],
      "metadata": {
        "colab": {
          "base_uri": "https://localhost:8080/"
        },
        "id": "yRNaqybWs28U",
        "outputId": "c56fc391-544b-4cfe-ffe1-eeb7acde9d4c"
      },
      "execution_count": 25,
      "outputs": [
        {
          "output_type": "stream",
          "name": "stdout",
          "text": [
            "First number 100\n",
            "Last number: 500\n",
            "After append: [100, 200, 300, 400, 500, 750]\n",
            "After remove: [100, 300, 400, 500, 750]\n",
            "Value: 100\n",
            "Value: 300\n",
            "Value: 400\n",
            "Value: 500\n",
            "Value: 750\n"
          ]
        }
      ]
    },
    {
      "cell_type": "code",
      "source": [
        "# Menambah elemen menggunakan append()\n",
        "number.append(750)\n",
        "print(\"Array after append number: \", number)\n",
        "\n",
        "# Menambah elemen menggunakan insert()\n",
        "number.insert(2, 150) # Menyisipkan 150 di indeks ke-2\n",
        "print(\"Array after append element with insert:\", number)"
      ],
      "metadata": {
        "colab": {
          "base_uri": "https://localhost:8080/"
        },
        "id": "3X4iZE7Otej1",
        "outputId": "33da486c-d896-40be-fea2-fbc95cdde5d8"
      },
      "execution_count": 27,
      "outputs": [
        {
          "output_type": "stream",
          "name": "stdout",
          "text": [
            "Array after append number:  [100, 300, 150, 400, 500, 750, 750, 750]\n",
            "Array after append element with insert: [100, 300, 150, 150, 400, 500, 750, 750, 750]\n"
          ]
        }
      ]
    },
    {
      "cell_type": "code",
      "source": [
        "# Mengubah elemen pada indeks 0\n",
        "number[0] = 150\n",
        "print(\"Array after changed first element: \", number)"
      ],
      "metadata": {
        "colab": {
          "base_uri": "https://localhost:8080/"
        },
        "id": "SmZ455UMtpzX",
        "outputId": "e0a150f8-6979-4dc8-d049-24aefe3f3a11"
      },
      "execution_count": 28,
      "outputs": [
        {
          "output_type": "stream",
          "name": "stdout",
          "text": [
            "Array after changed first element:  [150, 300, 150, 150, 400, 500, 750, 750, 750]\n"
          ]
        }
      ]
    },
    {
      "cell_type": "code",
      "source": [
        "#Latihan 2\n",
        "\n",
        "number = [90, 70, 30, 40, 50]\n",
        "\n",
        "NPM = 2410506006\n",
        "two_last_digit = NPM % 100\n",
        "\n",
        "number.append(two_last_digit)\n",
        "\n",
        "number.pop(0)\n",
        "print(\"Array after pop and append: \", number)"
      ],
      "metadata": {
        "colab": {
          "base_uri": "https://localhost:8080/"
        },
        "id": "RX5vCUgGtqbO",
        "outputId": "5b08d7e5-4057-44eb-cfa5-c9f0f726b26a"
      },
      "execution_count": 33,
      "outputs": [
        {
          "output_type": "stream",
          "name": "stdout",
          "text": [
            "Array after pop and append:  [70, 30, 40, 50, 6]\n"
          ]
        }
      ]
    },
    {
      "cell_type": "code",
      "source": [
        "angka = [10, 20, 30, 40]\n",
        "\n",
        "for nilai in angka:\n",
        "    print(\"Nilai:\", nilai)"
      ],
      "metadata": {
        "colab": {
          "base_uri": "https://localhost:8080/"
        },
        "id": "W5wjxY-Rtsth",
        "outputId": "e46cef70-46bc-4cc9-9da1-4431177e6f99"
      },
      "execution_count": 14,
      "outputs": [
        {
          "output_type": "stream",
          "name": "stdout",
          "text": [
            "Nilai: 10\n",
            "Nilai: 20\n",
            "Nilai: 30\n",
            "Nilai: 40\n"
          ]
        }
      ]
    },
    {
      "cell_type": "code",
      "source": [
        "#Latihan 3\n",
        "\n",
        "daerah = [\"Magelang\", \"Semarang\", \"Temanggung\", \"Yogyakarta\"]\n",
        "\n",
        "for name in daerah:\n",
        "    print(\"Nama Daerah: \", daerah)"
      ],
      "metadata": {
        "colab": {
          "base_uri": "https://localhost:8080/"
        },
        "id": "FPR-HHd_txUp",
        "outputId": "4600cfce-0187-433b-b619-5377540ac780"
      },
      "execution_count": 34,
      "outputs": [
        {
          "output_type": "stream",
          "name": "stdout",
          "text": [
            "Nama Daerah:  ['Magelang', 'Semarang', 'Temanggung', 'Yogyakarta']\n",
            "Nama Daerah:  ['Magelang', 'Semarang', 'Temanggung', 'Yogyakarta']\n",
            "Nama Daerah:  ['Magelang', 'Semarang', 'Temanggung', 'Yogyakarta']\n",
            "Nama Daerah:  ['Magelang', 'Semarang', 'Temanggung', 'Yogyakarta']\n"
          ]
        }
      ]
    },
    {
      "cell_type": "code",
      "source": [
        "number = [100, 200, 300, 400]\n",
        "\n",
        "print(\"Jumlah total:\", sum(number))\n",
        "print(\"Nilai maksmum:\", max(number))\n",
        "print(\"Nilai minimum:\", min(number))"
      ],
      "metadata": {
        "colab": {
          "base_uri": "https://localhost:8080/"
        },
        "id": "o5V_Z5Swt29B",
        "outputId": "8e05eca5-d146-44d8-8b67-00b6e16d35e6"
      },
      "execution_count": 36,
      "outputs": [
        {
          "output_type": "stream",
          "name": "stdout",
          "text": [
            "Jumlah total: 1000\n",
            "Nilai maksmum: 400\n",
            "Nilai minimum: 100\n"
          ]
        }
      ]
    },
    {
      "cell_type": "code",
      "source": [
        "#latihan 4\n",
        "\n",
        "item_price = [15000, 25000, 35000, 45000, 55000]\n",
        "\n",
        "print(\"Jumlah total:\", sum(harga_barang))\n",
        "print(\"Harga termahal:\", max(harga_barang))\n",
        "print(\"Harga termurah:\", min(harga_barang))"
      ],
      "metadata": {
        "colab": {
          "base_uri": "https://localhost:8080/"
        },
        "id": "x-omPMBtt7VT",
        "outputId": "3805fcd3-6f3b-4bd7-b29b-76ccd35974d9"
      },
      "execution_count": 37,
      "outputs": [
        {
          "output_type": "stream",
          "name": "stdout",
          "text": [
            "Jumlah total: 175000\n",
            "Harga termahal: 55000\n",
            "Harga termurah: 15000\n"
          ]
        }
      ]
    },
    {
      "cell_type": "code",
      "source": [
        "#Latihan 5\n",
        "\n",
        "matriks =  [\n",
        "    [1, 2, 3, 4],\n",
        "    [5, 6, 7, 8],\n",
        "    [9, 10, 11, 12]\n",
        "]\n",
        "\n",
        "print(\"isi array 2D:\")\n",
        "for baris in matriks:\n",
        "      print(baris)"
      ],
      "metadata": {
        "colab": {
          "base_uri": "https://localhost:8080/"
        },
        "id": "Wkl2MGZot9-Q",
        "outputId": "7c5ebc2a-10e3-408d-caee-a90616952a48"
      },
      "execution_count": 39,
      "outputs": [
        {
          "output_type": "stream",
          "name": "stdout",
          "text": [
            "isi array 2D:\n",
            "[1, 2, 3, 4]\n",
            "[5, 6, 7, 8]\n",
            "[9, 10, 11, 12]\n"
          ]
        }
      ]
    },
    {
      "cell_type": "code",
      "source": [
        "# Mengakses elemem pada baris ke-1, kolom ke-2 (indeks[0][1])\n",
        "print(\"Elemen pada baris 1, kolom 2:\", matriks[0][1])\n",
        "\n",
        "# Mengakses elemen terakhir (baris ke-3, kolom ke-3)\n",
        "print(\"Elemen terakhir:\", matriks[-1][-1])"
      ],
      "metadata": {
        "colab": {
          "base_uri": "https://localhost:8080/"
        },
        "id": "WFUgozOQuAsR",
        "outputId": "9baf089a-b2ed-4f62-fa77-b4eaade0fb38"
      },
      "execution_count": 20,
      "outputs": [
        {
          "output_type": "stream",
          "name": "stdout",
          "text": [
            "Elemen pada baris 1, kolom 2: 2\n",
            "Elemen terakhir: 12\n"
          ]
        }
      ]
    },
    {
      "cell_type": "code",
      "source": [
        "# Mengubah elemen pada baris ke-3, kolom ke-2\n",
        "matriks[2][1] = 88\n",
        "print(\"Array setelah mengubah elemen baris ke-3, kolom ke-2:\", matriks)"
      ],
      "metadata": {
        "colab": {
          "base_uri": "https://localhost:8080/"
        },
        "id": "X_APlBJGuDOO",
        "outputId": "ac38f10c-34e1-48d2-9730-ee22e7c3a0fc"
      },
      "execution_count": 21,
      "outputs": [
        {
          "output_type": "stream",
          "name": "stdout",
          "text": [
            "Array setelah mengubah elemen baris ke-3, kolom ke-2: [[1, 2, 3, 4], [5, 6, 7, 8], [9, 88, 11, 12]]\n"
          ]
        }
      ]
    },
    {
      "cell_type": "code",
      "source": [
        "Ukuran_peta = 10\n",
        "\n",
        "# Membuat peta dengan harta karun tersembunyi\n",
        "treasure_map = [\"O\" for _ in range(Ukuran_peta)]\n",
        "\n",
        "# Tentukan lokasi harta karun secara manual\n",
        "print(f\"Selamat datang di Treasure Hunt! Peta memiliki {Ukuran_peta} lokasi (0 hingga {Ukuran_peta-1}).\")\n",
        "\n",
        "while True:\n",
        "    try:\n",
        "        treasure_index = int(input(f\"Masukkan lokasi harta karun (0-{Ukuran_peta-1}): \"))\n",
        "        if 0 <= treasure_index < Ukuran_peta:\n",
        "            break\n",
        "        else:\n",
        "            print(\"Lokasi tidak valid. Masukkan angka dalam rentang yang benar.\")\n",
        "    except ValueError:\n",
        "        print(\"Masukan tidak valid. Harap masukkan angka.\")\n",
        "\n",
        "treasure_map[treasure_index] = \"X\"  # Menyembunyikan harta karun di lokasi yang dipilih\n",
        "\n",
        "# Fungsi untuk memulai permainan\n",
        "def play_treasure_hunt():\n",
        "    print(\"\\nHarta karun telah disembunyikan! Sekarang giliran pemain menebak.\")\n",
        "    print(\"Cobalah untuk menemukan harta karun dengan menebak indeks yang benar.\")\n",
        "\n",
        "    while True:  # Loop permainan\n",
        "        # Menampilkan peta tersembunyi kepada pemain\n",
        "        print(\"\\nPeta saat ini: \", [\"O\" for _ in range(Ukuran_peta)])  # Peta tersembunyi\n",
        "\n",
        "        # Input pemain\n",
        "        while True:\n",
        "            try:\n",
        "                guess = int(input(f\"Masukkan indeks tebakanmu (0-{Ukuran_peta-1}): \"))\n",
        "                if 0 <= guess < Ukuran_peta:\n",
        "                    break\n",
        "                else:\n",
        "                    print(\"Tebakan tidak valid. Masukkan angka dalam rentang yang benar.\")\n",
        "            except ValueError:\n",
        "                print(\"Masukan tidak valid. Harap masukkan angka.\")\n",
        "\n",
        "        # Validasi input\n",
        "        if guess < 0 or guess >= Ukuran_peta:\n",
        "            print(\"Indeks tidak valid, pilih antara 0 hingga\", Ukuran_peta-1)\n",
        "            continue\n",
        "\n",
        "        # Mengecek apakah tebakan benar\n",
        "        if treasure_map[guess] == \"X\":\n",
        "            print(\" Selamat! Kamu menemukan harta karun di lokasi:\", guess)\n",
        "            break\n",
        "        else:\n",
        "            print(\" X Tidak ada harta di lokasi ini. Coba lagi!\")\n",
        "\n",
        "    print(\"Terima kasih sudah bermain!\")\n",
        "\n",
        "# Memulai permainan\n",
        "play_treasure_hunt()"
      ],
      "metadata": {
        "colab": {
          "base_uri": "https://localhost:8080/"
        },
        "id": "IMGjvy3suGsT",
        "outputId": "ec51201b-0dd2-49f3-b7b7-2ba478cf66f8"
      },
      "execution_count": 22,
      "outputs": [
        {
          "output_type": "stream",
          "name": "stdout",
          "text": [
            "Selamat datang di Treasure Hunt! Peta memiliki 10 lokasi (0 hingga 9).\n",
            "Masukkan lokasi harta karun (0-9): 7\n",
            "\n",
            "Harta karun telah disembunyikan! Sekarang giliran pemain menebak.\n",
            "Cobalah untuk menemukan harta karun dengan menebak indeks yang benar.\n",
            "\n",
            "Peta saat ini:  ['O', 'O', 'O', 'O', 'O', 'O', 'O', 'O', 'O', 'O']\n",
            "Masukkan indeks tebakanmu (0-9): 5\n",
            " X Tidak ada harta di lokasi ini. Coba lagi!\n",
            "\n",
            "Peta saat ini:  ['O', 'O', 'O', 'O', 'O', 'O', 'O', 'O', 'O', 'O']\n",
            "Masukkan indeks tebakanmu (0-9): 8\n",
            " X Tidak ada harta di lokasi ini. Coba lagi!\n",
            "\n",
            "Peta saat ini:  ['O', 'O', 'O', 'O', 'O', 'O', 'O', 'O', 'O', 'O']\n",
            "Masukkan indeks tebakanmu (0-9): 7\n",
            " Selamat! Kamu menemukan harta karun di lokasi: 7\n",
            "Terima kasih sudah bermain!\n"
          ]
        }
      ]
    },
    {
      "cell_type": "code",
      "source": [
        "import random\n",
        "\n",
        "def play_treasure_hunt():\n",
        "    # Input ukuran peta\n",
        "    while True:\n",
        "        try:\n",
        "            ukuran_peta = int(input(\"Masukkan ukuran peta yang diinginkan: \"))\n",
        "            if ukuran_peta > 0:\n",
        "                break\n",
        "            else:\n",
        "                print(\"Ukuran peta harus lebih dari 0. Silakan coba lagi.\")\n",
        "        except ValueError:\n",
        "            print(\"Masukan tidak valid. Harap masukkan angka.\")\n",
        "\n",
        "    # Membuat peta dengan harta karun tersembunyi secara acak\n",
        "    peta = [\"O\" for _ in range(ukuran_peta)]\n",
        "    lokasi_harta_karun = random.randint(0, ukuran_peta - 1)\n",
        "    peta[lokasi_harta_karun] = \"X\"\n",
        "\n",
        "    print(\"\\nHarta karun telah disembunyikan! Sekarang giliran pemain menebak.\")\n",
        "    print(\"Cobalah untuk menemukan harta karun dengan menebak indeks yang benar.\")\n",
        "\n",
        "    while True:  # Loop permainan\n",
        "        # Menampilkan peta tersembunyi kepada pemain\n",
        "        print(\"\\nPeta saat ini: \", [\"O\" for _ in range(ukuran_peta)])  # Peta tersembunyi\n",
        "\n",
        "        # Input pemain\n",
        "        while True:\n",
        "            try:\n",
        "                tebakan = int(input(f\"Masukkan indeks tebakanmu (0-{ukuran_peta-1}): \"))\n",
        "                if 0 <= tebakan < ukuran_peta:\n",
        "                    break\n",
        "                else:\n",
        "                    print(\"Tebakan tidak valid. Masukkan angka dalam rentang yang benar.\")\n",
        "            except ValueError:\n",
        "                print(\"Masukan tidak valid. Harap masukkan angka.\")\n",
        "\n",
        "        # Validasi input dan cek tebakan\n",
        "        if peta[tebakan] == \"X\":\n",
        "            print(\"\\nSelamat! Anda menemukan harta karun!\")\n",
        "            break\n",
        "        else:\n",
        "            print(\"\\nMaaf, tebakanmu salah. Coba lagi.\")\n",
        "\n",
        "    print(\"Terima kasih sudah bermain!\")\n",
        "\n",
        "# Memulai permainan\n",
        "play_treasure_hunt()67"
      ],
      "metadata": {
        "colab": {
          "base_uri": "https://localhost:8080/"
        },
        "id": "Z7DNHd5ouUR-",
        "outputId": "b2953bc4-e34c-4dbe-a580-4bf5be469e15"
      },
      "execution_count": 23,
      "outputs": [
        {
          "output_type": "stream",
          "name": "stdout",
          "text": [
            "Masukkan ukuran peta yang diinginkan: 10\n",
            "\n",
            "Harta karun telah disembunyikan! Sekarang giliran pemain menebak.\n",
            "Cobalah untuk menemukan harta karun dengan menebak indeks yang benar.\n",
            "\n",
            "Peta saat ini:  ['O', 'O', 'O', 'O', 'O', 'O', 'O', 'O', 'O', 'O']\n",
            "Masukkan indeks tebakanmu (0-9): 3\n",
            "\n",
            "Maaf, tebakanmu salah. Coba lagi.\n",
            "\n",
            "Peta saat ini:  ['O', 'O', 'O', 'O', 'O', 'O', 'O', 'O', 'O', 'O']\n",
            "Masukkan indeks tebakanmu (0-9): 4\n",
            "\n",
            "Maaf, tebakanmu salah. Coba lagi.\n",
            "\n",
            "Peta saat ini:  ['O', 'O', 'O', 'O', 'O', 'O', 'O', 'O', 'O', 'O']\n",
            "Masukkan indeks tebakanmu (0-9): 5\n",
            "\n",
            "Maaf, tebakanmu salah. Coba lagi.\n",
            "\n",
            "Peta saat ini:  ['O', 'O', 'O', 'O', 'O', 'O', 'O', 'O', 'O', 'O']\n",
            "Masukkan indeks tebakanmu (0-9): \n",
            "Masukan tidak valid. Harap masukkan angka.\n",
            "Masukkan indeks tebakanmu (0-9): \n",
            "Masukan tidak valid. Harap masukkan angka.\n",
            "Masukkan indeks tebakanmu (0-9): 6\n",
            "\n",
            "Selamat! Anda menemukan harta karun!\n",
            "Terima kasih sudah bermain!\n"
          ]
        }
      ]
    }
  ]
}