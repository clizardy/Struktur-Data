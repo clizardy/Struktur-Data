{
  "nbformat": 4,
  "nbformat_minor": 0,
  "metadata": {
    "colab": {
      "provenance": [],
      "authorship_tag": "ABX9TyNBacyk1nPinIgbaJveyS/y",
      "include_colab_link": true
    },
    "kernelspec": {
      "name": "python3",
      "display_name": "Python 3"
    },
    "language_info": {
      "name": "python"
    }
  },
  "cells": [
    {
      "cell_type": "markdown",
      "metadata": {
        "id": "view-in-github",
        "colab_type": "text"
      },
      "source": [
        "<a href=\"https://colab.research.google.com/github/clizardy/Struktur-Data/blob/main/SD_2.ipynb\" target=\"_parent\"><img src=\"https://colab.research.google.com/assets/colab-badge.svg\" alt=\"Open In Colab\"/></a>"
      ]
    },
    {
      "cell_type": "code",
      "execution_count": null,
      "metadata": {
        "colab": {
          "base_uri": "https://localhost:8080/"
        },
        "id": "ikiyI0foR95O",
        "outputId": "833f261e-ea9c-43a2-d5c5-a4308c6dcc7d"
      },
      "outputs": [
        {
          "output_type": "stream",
          "name": "stdout",
          "text": [
            "Masukkan Nama Petugas ke-1: yunan\n",
            "Masukkan Nama Petugas ke-2: aku\n",
            "Masukkan Nama Petugas ke-3: dia\n",
            "Masukkan Nama Petugas ke-4: kamu\n",
            "Jadwal Piket Petugas Dalam 2 Minggu: \n",
            "Hari 1: yunan\n",
            "Hari 2: aku\n",
            "Hari 3: dia\n",
            "Hari 4: kamu\n",
            "Hari 5: yunan\n",
            "Hari 6: aku\n",
            "Hari 7: dia\n",
            "Hari 8: kamu\n",
            "Hari 9: yunan\n",
            "Hari 10: aku\n",
            "Hari 11: dia\n",
            "Hari 12: kamu\n",
            "Hari 13: yunan\n",
            "Hari 14: aku\n"
          ]
        }
      ],
      "source": [
        "class Petugas:\n",
        "    def __init__(self, name):\n",
        "        self.name = name\n",
        "        self.next = None\n",
        "\n",
        "class JadwalPiket:\n",
        "    def __init__(self):\n",
        "        self.head = None\n",
        "\n",
        "    def tambah_petugas(self, name):\n",
        "        petugas_baru = Petugas(name)\n",
        "        if not self.head:\n",
        "            self.head = petugas_baru\n",
        "            petugas_baru.next = self.head  # Circular linked list\n",
        "        else:\n",
        "            temp = self.head\n",
        "            while temp.next != self.head:\n",
        "                temp = temp.next\n",
        "            temp.next = petugas_baru\n",
        "            petugas_baru.next = self.head\n",
        "\n",
        "    def tampilkan_jadwal(self, jumlah_hari):\n",
        "        if not self.head:\n",
        "            print(\"Belum ada petugas yang ditambahkan!\")\n",
        "            return\n",
        "\n",
        "        print(\"Jadwal Piket Petugas Dalam 2 Minggu: \")\n",
        "        temp = self.head\n",
        "        for hari in range(1, jumlah_hari + 1):\n",
        "            print(f\"Hari {hari}: {temp.name}\")\n",
        "            temp = temp.next\n",
        "\n",
        "# Main Program\n",
        "jadwal = JadwalPiket()\n",
        "\n",
        "# Input nama satpam\n",
        "for i in range(4):\n",
        "    name = input(f\"Masukkan Nama Petugas ke-{i+1}: \")\n",
        "    jadwal.tambah_petugas(name)\n",
        "\n",
        "# Tampilkan jadwal selama 2 minggu (14 hari)\n",
        "jadwal.tampilkan_jadwal(14)"
      ]
    }
  ]
}