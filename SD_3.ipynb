{
  "nbformat": 4,
  "nbformat_minor": 0,
  "metadata": {
    "colab": {
      "provenance": [],
      "authorship_tag": "ABX9TyNazE3JCb3qAFSyCjW/W97d",
      "include_colab_link": true
    },
    "kernelspec": {
      "name": "python3",
      "display_name": "Python 3"
    },
    "language_info": {
      "name": "python"
    }
  },
  "cells": [
    {
      "cell_type": "markdown",
      "metadata": {
        "id": "view-in-github",
        "colab_type": "text"
      },
      "source": [
        "<a href=\"https://colab.research.google.com/github/clizardy/Struktur-Data/blob/main/SD_3.ipynb\" target=\"_parent\"><img src=\"https://colab.research.google.com/assets/colab-badge.svg\" alt=\"Open In Colab\"/></a>"
      ]
    },
    {
      "cell_type": "code",
      "execution_count": null,
      "metadata": {
        "colab": {
          "base_uri": "https://localhost:8080/"
        },
        "id": "S3PC2PtR2JBQ",
        "outputId": "13914b4f-e8b1-4c5c-e818-d57c1bd129ca"
      },
      "outputs": [
        {
          "output_type": "stream",
          "name": "stdout",
          "text": [
            "[5]\n"
          ]
        }
      ],
      "source": [
        "class Stack:\n",
        "    def __init__(self):\n",
        "        self.stack = []\n",
        "\n",
        "    def push(self, item):\n",
        "        self.stack.append(item)\n",
        "\n",
        "# Contoh penggunaan\n",
        "s = Stack()\n",
        "s.push(5)\n",
        "print(s.stack)"
      ]
    },
    {
      "cell_type": "code",
      "source": [
        "class Stack:\n",
        "    def __init__(self):\n",
        "        self.stack = []\n",
        "\n",
        "    def push(self, item):\n",
        "        self.stack.append(item)"
      ],
      "metadata": {
        "id": "hu-oMWL73sxs"
      },
      "execution_count": null,
      "outputs": []
    },
    {
      "cell_type": "code",
      "source": [
        "class Stack:\n",
        "    def __init__(self):\n",
        "        self.stack = []\n",
        "\n",
        "    def push(self, item):\n",
        "        self.stack.append(item)\n",
        "\n",
        "    def pop(self):\n",
        "        if len(self.stack) == 0:\n",
        "             return \"Stack Kosong\"\n",
        "        return self.stack.pop()\n",
        "# Contoh penggunaan\n",
        "s = Stack()\n",
        "s.push(5)\n",
        "s.push(10)\n",
        "print(s.pop)\n",
        "print(s.stack)"
      ],
      "metadata": {
        "colab": {
          "base_uri": "https://localhost:8080/"
        },
        "id": "wbbdITcw7yGd",
        "outputId": "d4ef027a-910d-4691-a85d-d81dc99b6f24"
      },
      "execution_count": null,
      "outputs": [
        {
          "output_type": "stream",
          "name": "stdout",
          "text": [
            "<bound method Stack.pop of <__main__.Stack object at 0x7c2cdd636f10>>\n",
            "[5, 10]\n"
          ]
        }
      ]
    },
    {
      "cell_type": "code",
      "source": [
        "class Stack:\n",
        "    def __init__(self):\n",
        "         self.stack = []\n",
        "\n",
        "    def push(self, item):\n",
        "        self.stack.append(item)\n",
        "\n",
        "    def pop(self):\n",
        "        if len(self.stack) == 0:\n",
        "            return \"Stack Kosong\"\n",
        "        return self.stack.pop()\n",
        "\n",
        "    def peek(self):\n",
        "        if len(self.stack) == 0:\n",
        "            return \"Stack Kosong\"\n",
        "        return self.stack[-1]\n",
        "# Contoh penggunaan\n",
        "s = Stack()\n",
        "s.push(5)\n",
        "s.push(10)\n",
        "print(s.peek()) # Output: 10\n",
        "print(s.stack) # Stack tetap [5, 10]"
      ],
      "metadata": {
        "colab": {
          "base_uri": "https://localhost:8080/"
        },
        "id": "J7URgogm9mYf",
        "outputId": "de202d5f-610f-4f19-e0d9-2c1d45a0c85c"
      },
      "execution_count": null,
      "outputs": [
        {
          "output_type": "stream",
          "name": "stdout",
          "text": [
            "10\n",
            "[5, 10]\n"
          ]
        }
      ]
    },
    {
      "cell_type": "code",
      "source": [
        "class Stack:\n",
        "    def __init__(self):\n",
        "        self.stack = []\n",
        "\n",
        "    def is_empty(self):\n"
      ],
      "metadata": {
        "id": "-QgyxKk-_Pid"
      },
      "execution_count": null,
      "outputs": []
    },
    {
      "cell_type": "code",
      "source": [
        "# First Exercise # Class\n",
        "class CalculatorStack:\n",
        "  def __init__(self):\n",
        "    self.last_result = None\n",
        "    self.stack = [\"0\"]\n",
        "\n",
        "  def __iter__(self):\n",
        "    for v in self.stack:\n",
        "      yield v\n",
        "\n",
        "  def __repr__(self):\n",
        "    return str(self.stack)\n",
        "\n",
        "  def push(self, new_data):\n",
        "    try:\n",
        "      if self.last_result is None:\n",
        "        self.stack.append(new_data)\n",
        "        self.last_result = eval(new_data)\n",
        "      else:\n",
        "        self.stack.append(f\"{str(self.last_result)}{new_data}\")\n",
        "        self.last_result = eval(f\"{str(self.last_result)}{new_data}\")\n",
        "    except:\n",
        "      print(\"Kesalahan dalam menginput operasi matematika\")\n",
        "\n",
        "  def undo(self):\n",
        "    if len(self.stack) == 0:\n",
        "      return\n",
        "\n",
        "    self.stack.pop()\n",
        "\n",
        "    if len(self.stack) == 0:\n",
        "      return\n",
        "\n",
        "    self.last_result = eval(self.stack[-1])\n",
        "\n",
        "\n",
        "# Variabel\n",
        "operations_history = CalculatorStack()\n",
        "is_first = True\n",
        "\n",
        "\n",
        "# Program utama\n",
        "print(\"Ketik \\\"stop\\\" untuk menghentikan kalkulator\\n\")\n",
        "\n",
        "while True:\n",
        "  input_text = \"Masukkan operasi matematika:\\n\"\n",
        "\n",
        "  if not is_first:\n",
        "    input_text = f\"Lanjutkan operasi matematika:\\n{operations_history.last_result} \"\n",
        "\n",
        "  user_input = input(input_text).lower()\n",
        "\n",
        "  if user_input == \"stop\":\n",
        "    break\n",
        "  elif user_input == \"undo\":\n",
        "    operations_history.undo()\n",
        "    print(\"\")\n",
        "  else:\n",
        "    operations_history.push(user_input)\n",
        "    print(f\"= {operations_history.last_result}\\n\")\n",
        "  is_first = False"
      ],
      "metadata": {
        "id": "Hsl_M58qFd8q",
        "colab": {
          "base_uri": "https://localhost:8080/"
        },
        "outputId": "f92552ea-fa10-43d3-a72f-af9d32f3117f"
      },
      "execution_count": null,
      "outputs": [
        {
          "name": "stdout",
          "output_type": "stream",
          "text": [
            "Ketik \"stop\" untuk menghentikan kalkulator\n",
            "\n",
            "Masukkan operasi matematika:\n",
            "7\n",
            "= 7\n",
            "\n",
            "Lanjutkan operasi matematika:\n",
            "7 7-9\n",
            "= 68\n",
            "\n",
            "Lanjutkan operasi matematika:\n",
            "68 stop\n"
          ]
        }
      ]
    },
    {
      "cell_type": "code",
      "source": [
        "# Second Exercise\n",
        "\n",
        "from collections import deque\n",
        "\n",
        "class HistoryAplikasi:\n",
        "  def __init__(self):\n",
        "    self.history = deque()\n",
        "\n",
        "  def mengunjungi(self, fitur):\n",
        "    self.history.append(fitur)\n",
        "    print(f\"Mengunjungi: {fitur}\")\n",
        "\n",
        "  def kembali(self):\n",
        "    if self.history:\n",
        "      print(f\"Kembali ke: {self.history.pop()}\")\n",
        "    else:\n",
        "      print(\"\\nTidak ada riwayat!\")\n",
        "\n",
        "# Penggunaan\n",
        "app = HistoryAplikasi()\n",
        "app.mengunjungi(\"M79_Beranda\")\n",
        "app.mengunjungi(\"M79_Profil\")\n",
        "app.mengunjungi(\"M79_Pengaturan\")\n",
        "\n",
        "app.kembali()\n",
        "app.kembali()\n",
        "app.kembali()\n",
        "app.kembali()"
      ],
      "metadata": {
        "colab": {
          "base_uri": "https://localhost:8080/"
        },
        "id": "by6EMXnpHBiG",
        "outputId": "9a70e270-c7cf-43a2-d6c4-343c6e360289"
      },
      "execution_count": null,
      "outputs": [
        {
          "output_type": "stream",
          "name": "stdout",
          "text": [
            "Mengunjungi: M79_Beranda\n",
            "Mengunjungi: M79_Profil\n",
            "Mengunjungi: M79_Pengaturan\n",
            "Kembali ke: M79_Pengaturan\n",
            "Kembali ke: M79_Profil\n",
            "Kembali ke: M79_Beranda\n",
            "\n",
            "Tidak ada riwayat!\n"
          ]
        }
      ]
    },
    {
      "cell_type": "code",
      "source": [
        "# 3th Exercise\n",
        "\n",
        "from queue import LifoQueue\n",
        "\n",
        "class EmailDraftStack:\n",
        "    def __init__(self):\n",
        "        self.drafts = LifoQueue()\n",
        "\n",
        "    def save_draft(self, subject, body):\n",
        "        self.drafts.put((subject, body))\n",
        "        print(f\"Draft email '{subject}' disimpan.\")\n",
        "\n",
        "    def view_latest_draft(self):\n",
        "        if not self.drafts.empty():\n",
        "            subject, body = self.drafts.queue[-1]\n",
        "            print(\"\\nDraft Terakhir:\")\n",
        "            print(f\"Subjek:Muhamad Ridwansah {subject}\")\n",
        "            print(f\"Isi: Punyaa Piaa >3 {body}\")\n",
        "        else:\n",
        "            print(\"Tidak ada draft email.\")\n",
        "\n",
        "# penggunaan\n",
        "email = EmailDraftStack()\n",
        "email.save_draft(\"MU79_Draft1\", \"Draft email 1.\")\n",
        "email.save_draft(\"MU79_Draft2\", \"Draft email 2.\")\n",
        "email.save_draft(\"MU79_Draft3\", \"Draft email 3.\")\n",
        "\n",
        "email.view_latest_draft()"
      ],
      "metadata": {
        "colab": {
          "base_uri": "https://localhost:8080/"
        },
        "id": "cEfDX98THGYW",
        "outputId": "706bde7c-ba7d-4d4c-e829-8f31e7e85cbf"
      },
      "execution_count": null,
      "outputs": [
        {
          "output_type": "stream",
          "name": "stdout",
          "text": [
            "Draft email 'MU79_Draft1' disimpan.\n",
            "Draft email 'MU79_Draft2' disimpan.\n",
            "Draft email 'MU79_Draft3' disimpan.\n",
            "\n",
            "Draft Terakhir:\n",
            "Subjek:Muhamad Ridwansah MU79_Draft3\n",
            "Isi: Punyaa Piaa >3 Draft email 3.\n"
          ]
        }
      ]
    },
    {
      "cell_type": "code",
      "source": [
        "# 4th Exercise\n",
        "\n",
        "class AntreanTiket:\n",
        "    def __init__(self):\n",
        "        self.stack = []\n",
        "\n",
        "    def beli_tiket(self, film):\n",
        "        self.stack.append(film)\n",
        "        print(f\"Tiket untuk film {film} telah dibeli.\")\n",
        "\n",
        "    def proses_tiket(self):\n",
        "        if self.stack:\n",
        "            film = self.stack.pop()\n",
        "            print(f\"Memproses tiket untuk film: {film}\")\n",
        "        else:\n",
        "            print(\"Tidak ada tiket dalam antrean.\")\n",
        "\n",
        "# Gunakan huruf pertama bulan lahir + dua digit terakhir NPM sebagai nama film\n",
        "film1 = \"M79-Action Ultraman 3\"\n",
        "film2 = \"M79-Drama Jepang\"\n",
        "film3 = \"M79-SciFi\"\n",
        "\n",
        "antrean = AntreanTiket()\n",
        "\n",
        "# Beli minimal 3 tiket\n",
        "antrean.beli_tiket(film1)\n",
        "antrean.beli_tiket(film2)\n",
        "antrean.beli_tiket(film3)\n",
        "\n",
        "# Uji sistem pemrosesan tiket\n",
        "antrean.proses_tiket()\n",
        "antrean.proses_tiket()"
      ],
      "metadata": {
        "colab": {
          "base_uri": "https://localhost:8080/"
        },
        "id": "nbcl8MKxHK_D",
        "outputId": "6e210e06-11ee-439f-d6e5-6a3f862a2720"
      },
      "execution_count": null,
      "outputs": [
        {
          "output_type": "stream",
          "name": "stdout",
          "text": [
            "Tiket untuk film M79-Action Ultraman 3 telah dibeli.\n",
            "Tiket untuk film M79-Drama Jepang telah dibeli.\n",
            "Tiket untuk film M79-SciFi telah dibeli.\n",
            "Memproses tiket untuk film: M79-SciFi\n",
            "Memproses tiket untuk film: M79-Drama Jepang\n"
          ]
        }
      ]
    },
    {
      "cell_type": "code",
      "source": [
        "# Task\n",
        "\n",
        "class GudangStack:\n",
        "    def __init__(self, kapasitas):\n",
        "        self.kapasitas = 79 # Maksimal barang berdasarkan 2 digit terakhir NPM\n",
        "        self.stack = []  # Menyimpan daftar barang\n",
        "\n",
        "    def push(self, barang):\n",
        "        \"\"\"Menambahkan barang ke gudang\"\"\"\n",
        "        if len(self.stack) < self.kapasitas:\n",
        "            self.stack.append(barang)\n",
        "            print(f\"{barang} ditambahkan ke gudang.\")\n",
        "        else:\n",
        "            print(\"Gudang penuh! Tidak bisa menambahkan barang lagi.\")\n",
        "\n",
        "    def pop(self):\n",
        "        \"\"\"Mengambil barang terakhir yang masuk\"\"\"\n",
        "        if self.stack:\n",
        "            barang = self.stack.pop()\n",
        "            print(f\"{barang} diambil dari gudang.\")\n",
        "        else:\n",
        "            print(\"Gudang kosong! Tidak ada barang untuk diambil.\")\n",
        "\n",
        "    def lihat_gudang(self):\n",
        "        \"\"\"Menampilkan daftar barang dalam gudang\"\"\"\n",
        "        if self.stack:\n",
        "            print(\"\\n📦 Barang dalam gudang (LIFO):\")\n",
        "            for barang in reversed(self.stack):\n",
        "                print(f\"- {barang}\")\n",
        "        else:\n",
        "            print(\"\\n🏭 Gudang kosong!\")\n",
        "\n",
        "npm_akhir = 79\n",
        "gudang = GudangStack(npm_akhir)\n",
        "\n",
        "# Proses\n",
        "gudang.push(\"M79-Komputer\")\n",
        "gudang.push(\"M79-Meja\")\n",
        "gudang.push(\"M79-Kursi\")\n",
        "gudang.lihat_gudang()\n",
        "\n",
        "gudang.pop()\n",
        "gudang.lihat_gudang()"
      ],
      "metadata": {
        "colab": {
          "base_uri": "https://localhost:8080/"
        },
        "id": "sfiqEc8jHzu3",
        "outputId": "9a68e3d8-a421-4c62-9c35-161e2529c242"
      },
      "execution_count": null,
      "outputs": [
        {
          "output_type": "stream",
          "name": "stdout",
          "text": [
            "M79-Komputer ditambahkan ke gudang.\n",
            "M79-Meja ditambahkan ke gudang.\n",
            "M79-Kursi ditambahkan ke gudang.\n",
            "\n",
            "📦 Barang dalam gudang (LIFO):\n",
            "- M79-Kursi\n",
            "- M79-Meja\n",
            "- M79-Komputer\n",
            "M79-Kursi diambil dari gudang.\n",
            "\n",
            "📦 Barang dalam gudang (LIFO):\n",
            "- M79-Meja\n",
            "- M79-Komputer\n"
          ]
        }
      ]
    },
    {
      "cell_type": "code",
      "source": [
        "class TowerOfHanoi:\n",
        "    def __init__(self, num_disks, max_moves):\n",
        "        self.num_disks = num_disks\n",
        "        self.max_moves = max_moves\n",
        "        self.towers = {\n",
        "            'A': list(range(num_disks, 0, -1)),  # Tiang A (awal)\n",
        "            'B': [],  # Tiang B (bantuan)\n",
        "            'C': []   # Tiang C (tujuan)\n",
        "        }\n",
        "        self.moves = 0\n",
        "\n",
        "    def display_towers(self):\n",
        "        print(\"Tiang A:\", self.towers['A'])\n",
        "        print(\"Tiang B:\", self.towers['B'])\n",
        "        print(\"Tiang C:\", self.towers['C'])\n",
        "        print(\"-\" * 20)\n",
        "\n",
        "    def is_valid_move(self, source, destination):\n",
        "        source_tower = self.towers[source]\n",
        "        dest_tower = self.towers[destination]\n",
        "\n",
        "        if not source_tower:\n",
        "            return False  # Tidak ada cakram di tiang sumber\n",
        "        if not dest_tower:\n",
        "            return True   # Tiang tujuan kosong\n",
        "        return source_tower[-1] < dest_tower[-1]  # Cakram sumber harus lebih kecil\n",
        "\n",
        "    def move_disk(self, source, destination):\n",
        "        if not self.is_valid_move(source, destination):\n",
        "            return False  # Gerakan tidak valid\n",
        "        disk = self.towers[source].pop()\n",
        "        self.towers[destination].append(disk)\n",
        "        self.moves += 1\n",
        "        return True\n",
        "\n",
        "    def solve(self, source, destination, auxiliary, n):\n",
        "        if n > 0:\n",
        "            self.solve(source, auxiliary, destination, n - 1)\n",
        "            if self.moves < self.max_moves:\n",
        "                if self.move_disk(source, destination):\n",
        "                    print(f\"Pindahkan cakram dari {source} ke {destination}\")\n",
        "                    self.display_towers()\n",
        "                else:\n",
        "                    print(\"Gerakan tidak valid!\")\n",
        "                    return\n",
        "            else:\n",
        "                print(\"Batas gerakan tercapai!\")\n",
        "                return\n",
        "            self.solve(auxiliary, destination, source, n - 1)\n",
        "\n",
        "# Contoh penggunaan dengan 3 cakram dan 6 langkah maksimal (NPM 06)\n",
        "game = TowerOfHanoi(3, 6)\n",
        "game.display_towers()\n",
        "game.solve('A', 'C', 'B', 3)\n",
        "\n",
        "if game.towers['C'] == list(range(3, 0, -1)):\n",
        "    print(\"Menara Hanoi berhasil diselesaikan!\")\n",
        "else:\n",
        "    print(\"Menara Hanoi tidak berhasil diselesaikan.\")"
      ],
      "metadata": {
        "id": "V4B96wf_IQwm",
        "colab": {
          "base_uri": "https://localhost:8080/"
        },
        "outputId": "3e035396-4da3-4711-bc68-054a6a83b526"
      },
      "execution_count": null,
      "outputs": [
        {
          "output_type": "stream",
          "name": "stdout",
          "text": [
            "Tiang A: [3, 2, 1]\n",
            "Tiang B: []\n",
            "Tiang C: []\n",
            "--------------------\n",
            "Pindahkan cakram dari A ke C\n",
            "Tiang A: [3, 2]\n",
            "Tiang B: []\n",
            "Tiang C: [1]\n",
            "--------------------\n",
            "Pindahkan cakram dari A ke B\n",
            "Tiang A: [3]\n",
            "Tiang B: [2]\n",
            "Tiang C: [1]\n",
            "--------------------\n",
            "Pindahkan cakram dari C ke B\n",
            "Tiang A: [3]\n",
            "Tiang B: [2, 1]\n",
            "Tiang C: []\n",
            "--------------------\n",
            "Pindahkan cakram dari A ke C\n",
            "Tiang A: []\n",
            "Tiang B: [2, 1]\n",
            "Tiang C: [3]\n",
            "--------------------\n",
            "Pindahkan cakram dari B ke A\n",
            "Tiang A: [1]\n",
            "Tiang B: [2]\n",
            "Tiang C: [3]\n",
            "--------------------\n",
            "Pindahkan cakram dari B ke C\n",
            "Tiang A: [1]\n",
            "Tiang B: []\n",
            "Tiang C: [3, 2]\n",
            "--------------------\n",
            "Batas gerakan tercapai!\n",
            "Menara Hanoi tidak berhasil diselesaikan.\n"
          ]
        }
      ]
    }
  ]
}