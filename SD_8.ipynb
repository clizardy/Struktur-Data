{
  "nbformat": 4,
  "nbformat_minor": 0,
  "metadata": {
    "colab": {
      "provenance": [],
      "authorship_tag": "ABX9TyOv77afiGniL0Q3w8Nei8OK",
      "include_colab_link": true
    },
    "kernelspec": {
      "name": "python3",
      "display_name": "Python 3"
    },
    "language_info": {
      "name": "python"
    }
  },
  "cells": [
    {
      "cell_type": "markdown",
      "metadata": {
        "id": "view-in-github",
        "colab_type": "text"
      },
      "source": [
        "<a href=\"https://colab.research.google.com/github/clizardy/Struktur-Data/blob/main/SD_8.ipynb\" target=\"_parent\"><img src=\"https://colab.research.google.com/assets/colab-badge.svg\" alt=\"Open In Colab\"/></a>"
      ]
    },
    {
      "cell_type": "code",
      "execution_count": null,
      "metadata": {
        "colab": {
          "base_uri": "https://localhost:8080/"
        },
        "id": "m43vQTj19tfK",
        "outputId": "7b255a03-5dd8-4881-a5b8-65f3d2da67e7"
      },
      "outputs": [
        {
          "output_type": "stream",
          "name": "stdout",
          "text": [
            "A -> ['B', 'C', 'D']\n",
            "B -> ['A', 'C', 'E']\n",
            "C -> ['A', 'B', 'D']\n",
            "D -> ['B', 'E', 'A']\n",
            "E -> ['A', 'C']\n"
          ]
        }
      ],
      "source": [
        "# Membuat graf tak berarah menggunakan adjacency list\n",
        "graph = {\n",
        "    'A': ['B', 'C', 'D'],\n",
        "    'B': ['A', 'C', 'E'],\n",
        "    'C': ['A', 'B', 'D'],\n",
        "    'D': ['B', 'E', 'A'],\n",
        "    'E': ['A', 'C'],\n",
        "}\n",
        "# Menampilkan graf\n",
        "def print_graph(graf):\n",
        "    for node in graf:\n",
        "      print(f\"{node} -> {graf [node]}\")\n",
        "print_graph(graph)"
      ]
    },
    {
      "cell_type": "code",
      "source": [
        "from collections import deque\n",
        "\n",
        "# Graf tak berarah\n",
        "graph = {\n",
        "    'A': ['B', 'C', 'D'],\n",
        "    'B': ['A', 'C', 'E'],\n",
        "    'C': ['A', 'B', 'D'],\n",
        "    'D': ['B', 'E', 'A'],\n",
        "    'E': ['A', 'C'],\n",
        "}\n",
        "\n",
        "# Fungsi untuk menampilkan graf\n",
        "def print_graph(graf):\n",
        "    for node in graf:\n",
        "        print(f\"{node} -> {graf[node]}\")\n",
        "\n",
        "# Implementasi BFS\n",
        "def bfs(graph, start):\n",
        "    visited = set()\n",
        "    queue = deque([start])\n",
        "    visited.add(start)\n",
        "    result = []\n",
        "\n",
        "    while queue:\n",
        "        vertex = queue.popleft()\n",
        "        result.append(vertex)\n",
        "\n",
        "        for neighbor in graph[vertex]:\n",
        "            if neighbor not in visited:\n",
        "                visited.add(neighbor)\n",
        "                queue.append(neighbor)\n",
        "\n",
        "    return result\n",
        "\n",
        "# Implementasi DFS (rekursif)\n",
        "def dfs_recursive(graph, vertex, visited=None, result=None):\n",
        "    if visited is None:\n",
        "        visited = set()\n",
        "    if result is None:\n",
        "        result = []\n",
        "\n",
        "    visited.add(vertex)\n",
        "    result.append(vertex)\n",
        "\n",
        "    for neighbor in graph[vertex]:\n",
        "        if neighbor not in visited:\n",
        "            dfs_recursive(graph, neighbor, visited, result)\n",
        "\n",
        "    return result\n",
        "\n",
        "# Implementasi DFS (iteratif)\n",
        "def dfs_iterative(graph, start):\n",
        "    visited = set()\n",
        "    stack = [start]\n",
        "    result = []\n",
        "\n",
        "    while stack:\n",
        "        vertex = stack.pop()\n",
        "        if vertex not in visited:\n",
        "            visited.add(vertex)\n",
        "            result.append(vertex)\n",
        "            # Push neighbors in reverse order for proper traversal\n",
        "            for neighbor in reversed(graph[vertex]):\n",
        "                if neighbor not in visited:\n",
        "                    stack.append(neighbor)\n",
        "\n",
        "    return result\n",
        "\n",
        "# Menampilkan graf\n",
        "print(\"Representasi Graf:\")\n",
        "print_graph(graph)\n",
        "print()\n",
        "\n",
        "# Traversal dari simpul 'A'\n",
        "start_node = 'A'\n",
        "print(f\"BFS dari simpul {start_node}: {bfs(graph, start_node)}\")\n",
        "print(f\"DFS rekursif dari simpul {start_node}: {dfs_recursive(graph, start_node)}\")\n",
        "print(f\"DFS iteratif dari simpul {start_node}: {dfs_iterative(graph, start_node)}\")"
      ],
      "metadata": {
        "colab": {
          "base_uri": "https://localhost:8080/"
        },
        "id": "nSySDDfoDF1h",
        "outputId": "ba83c243-3b6d-4871-f072-0569d8511c6c"
      },
      "execution_count": null,
      "outputs": [
        {
          "output_type": "stream",
          "name": "stdout",
          "text": [
            "Representasi Graf:\n",
            "A -> ['B', 'C', 'D']\n",
            "B -> ['A', 'C', 'E']\n",
            "C -> ['A', 'B', 'D']\n",
            "D -> ['B', 'E', 'A']\n",
            "E -> ['A', 'C']\n",
            "\n",
            "BFS dari simpul A: ['A', 'B', 'C', 'D', 'E']\n",
            "DFS rekursif dari simpul A: ['A', 'B', 'C', 'D', 'E']\n",
            "DFS iteratif dari simpul A: ['A', 'B', 'C', 'D', 'E']\n"
          ]
        }
      ]
    },
    {
      "cell_type": "code",
      "source": [
        "from collections import deque\n",
        "\n",
        "def bfs(graph, start):\n",
        "    \"\"\"\n",
        "    Fungsi BFS yang mengembalikan list urutan kunjungan simpul\n",
        "    :param graph: dictionary representasi adjacency list\n",
        "    :param start: simpul awal\n",
        "    :return: list urutan kunjungan simpul\n",
        "    \"\"\"\n",
        "    visited = []  # Menyimpan urutan kunjungan\n",
        "    queue = deque([start])\n",
        "    visited_set = set([start])  # Untuk pengecekan efisien\n",
        "\n",
        "    while queue:\n",
        "        vertex = queue.popleft()\n",
        "        visited.append(vertex)  # Tambahkan ke list urutan kunjungan\n",
        "\n",
        "        for neighbor in graph[vertex]:\n",
        "            if neighbor not in visited_set:\n",
        "                visited_set.add(neighbor)\n",
        "                queue.append(neighbor)\n",
        "\n",
        "    return visited\n",
        "\n",
        "# Contoh penggunaan\n",
        "graph = {\n",
        "    'A': ['B', 'C', 'D'],\n",
        "    'B': ['A', 'C', 'E'],\n",
        "    'C': ['A', 'B', 'D'],\n",
        "    'D': ['B', 'E', 'A'],\n",
        "    'E': ['A', 'C'],\n",
        "}\n",
        "\n",
        "# Panggil BFS dan simpan hasilnya\n",
        "bfs_result = bfs(graph, 'A')\n",
        "print(\"Urutan kunjungan BFS:\", bfs_result)"
      ],
      "metadata": {
        "colab": {
          "base_uri": "https://localhost:8080/"
        },
        "id": "lcPF2TF7DH1A",
        "outputId": "89844099-cae3-4a9f-c1ce-458f5c79655c"
      },
      "execution_count": null,
      "outputs": [
        {
          "output_type": "stream",
          "name": "stdout",
          "text": [
            "Urutan kunjungan BFS: ['A', 'B', 'C', 'D', 'E']\n"
          ]
        }
      ]
    },
    {
      "cell_type": "code",
      "source": [
        "def find_path(graph, start, end):\n",
        "    \"\"\"\n",
        "    Mencari satu jalur dari start ke end menggunakan DFS\n",
        "    :param graph: dictionary representasi adjacency list\n",
        "    :param start: simpul awal\n",
        "    :param end: simpul tujuan\n",
        "    :return: list jalur dari start ke end, atau None jika tidak ditemukan\n",
        "    \"\"\"\n",
        "    stack = [(start, [start])]  # Stack berisi tuple (current_node, path)\n",
        "    visited = set()\n",
        "\n",
        "    while stack:\n",
        "        current_node, path = stack.pop()\n",
        "\n",
        "        if current_node == end:\n",
        "            return path\n",
        "\n",
        "        if current_node not in visited:\n",
        "            visited.add(current_node)\n",
        "\n",
        "            # Push tetangga ke stack dengan path yang diperbarui\n",
        "            for neighbor in reversed(graph[current_node]):\n",
        "                if neighbor not in visited:\n",
        "                    stack.append((neighbor, path + [neighbor]))\n",
        "\n",
        "    return None  # Tidak ditemukan jalur\n",
        "\n",
        "# Contoh penggunaan\n",
        "graph = {\n",
        "    'A': ['B', 'C', 'D'],\n",
        "    'B': ['A', 'C', 'E'],\n",
        "    'C': ['A', 'B', 'D'],\n",
        "    'D': ['B', 'E', 'A'],\n",
        "    'E': ['A', 'C'],\n",
        "}\n",
        "\n",
        "# Cari jalur dari 'A' ke 'E'\n",
        "path = find_path(graph, 'A', 'E')\n",
        "print(\"Jalur dari A ke E:\", path)  # Output: ['A', 'D', 'E'] atau variasi lainnya\n",
        "\n",
        "# Cari jalur yang tidak ada\n",
        "path = find_path(graph, 'A', 'F')\n",
        "print(\"Jalur dari A ke F:\", path)  # Output: None"
      ],
      "metadata": {
        "id": "ZhcH6TmqDLD_",
        "outputId": "3209f26f-3094-4810-b911-684d06935c77",
        "colab": {
          "base_uri": "https://localhost:8080/"
        }
      },
      "execution_count": null,
      "outputs": [
        {
          "output_type": "stream",
          "name": "stdout",
          "text": [
            "Jalur dari A ke E: ['A', 'B', 'C', 'D', 'E']\n",
            "Jalur dari A ke F: None\n"
          ]
        }
      ]
    },
    {
      "cell_type": "code",
      "source": [
        "def is_connected(graph):\n",
        "    \"\"\"\n",
        "    Mengecek apakah semua simpul dalam graf saling terhubung (graf terhubung)\n",
        "    :param graph: dictionary representasi adjacency list\n",
        "    :return: True jika graf terhubung, False jika tidak\n",
        "    \"\"\"\n",
        "    if not graph:  # Jika graf kosong\n",
        "        return True\n",
        "\n",
        "    start_node = next(iter(graph))  # Ambil simpul pertama sebagai starting point\n",
        "    visited = set()\n",
        "\n",
        "    # DFS rekursif untuk menelusuri semua simpul yang terhubung\n",
        "    def dfs(node):\n",
        "        visited.add(node)\n",
        "        for neighbor in graph[node]:\n",
        "            if neighbor not in visited:\n",
        "                dfs(neighbor)\n",
        "\n",
        "    dfs(start_node)\n",
        "\n",
        "    # Bandingkan dengan semua simpul dalam graf\n",
        "    return len(visited) == len(graph)\n",
        "\n",
        "# Contoh penggunaan\n",
        "graph_connected = {\n",
        "    'A': ['B', 'C'],\n",
        "    'B': ['A', 'C'],\n",
        "    'C': ['A', 'B', 'D'],\n",
        "    'D': ['C']\n",
        "}\n",
        "\n",
        "graph_disconnected = {\n",
        "    'A': ['B'],\n",
        "    'B': ['A'],\n",
        "    'C': ['D'],\n",
        "    'D': ['C']\n",
        "}\n",
        "\n",
        "print(\"Graph 1 terhubung?\", is_connected(graph_connected))    # Output: True\n",
        "print(\"Graph 2 terhubung?\", is_connected(graph_disconnected)) # Output: False"
      ],
      "metadata": {
        "id": "hPcQIGYxDMo8",
        "outputId": "8e0ad4c8-d769-4358-8013-7a0e61b3e92f",
        "colab": {
          "base_uri": "https://localhost:8080/"
        }
      },
      "execution_count": null,
      "outputs": [
        {
          "output_type": "stream",
          "name": "stdout",
          "text": [
            "Graph 1 terhubung? True\n",
            "Graph 2 terhubung? False\n"
          ]
        }
      ]
    },
    {
      "cell_type": "code",
      "source": [
        "# Membuat graf tak berarah menggunakan adjacency list\n",
        "graph = {\n",
        "    'A': ['B', 'C', 'D'],\n",
        "    'B': ['A', 'C', 'E'],\n",
        "    'C': ['A', 'B', 'D'],\n",
        "    'D': ['B', 'E', 'A'],\n",
        "    'E': ['A', 'C'],\n",
        "}\n",
        "# Menampilkan graf\n",
        "def print_graph(graf):\n",
        "    for node in graf:\n",
        "      print(f\"{node} -> {graf [node]}\")\n",
        "print_graph(graph)"
      ],
      "metadata": {
        "colab": {
          "base_uri": "https://localhost:8080/"
        },
        "id": "rHS3mVLuebut",
        "outputId": "ac4bb1af-a1d1-4053-8873-d44a660d1be3"
      },
      "execution_count": null,
      "outputs": [
        {
          "output_type": "stream",
          "name": "stdout",
          "text": [
            "A -> ['B', 'C', 'D']\n",
            "B -> ['A', 'C', 'E']\n",
            "C -> ['A', 'B', 'D']\n",
            "D -> ['B', 'E', 'A']\n",
            "E -> ['A', 'C']\n"
          ]
        }
      ]
    },
    {
      "cell_type": "code",
      "source": [
        "from collections import deque\n",
        "\n",
        "# Graf tak berarah\n",
        "graph = {\n",
        "    'A': ['B', 'C', 'D'],\n",
        "    'B': ['A', 'C', 'E'],\n",
        "    'C': ['A', 'B', 'D'],\n",
        "    'D': ['B', 'E', 'A'],\n",
        "    'E': ['A', 'C'],\n",
        "}\n",
        "# Fungsi untuk menampilkan graf\n",
        "def print_graph(graf):\n",
        "    for node in graf:\n",
        "        print(f\"{node} -> {graf[node]}\")\n",
        "# Implementasi BFS\n",
        "def bfs(graph, start):\n",
        "    visited = set()\n",
        "    queue = deque([start])\n",
        "    visited.add(start)\n",
        "    result = []\n",
        "\n",
        "    while queue:\n",
        "        vertex = queue.popleft()\n",
        "        result.append(vertex)\n",
        "\n",
        "        for neighbor in graph[vertex]:\n",
        "            if neighbor not in visited:\n",
        "                visited.add(neighbor)\n",
        "                queue.append(neighbor)\n",
        "\n",
        "    return result\n",
        "# Implementasi DFS (rekursif)\n",
        "def dfs_recursive(graph, vertex, visited=None, result=None):\n",
        "    if visited is None:\n",
        "        visited = set()\n",
        "    if result is None:\n",
        "        result = []\n",
        "\n",
        "    visited.add(vertex)\n",
        "    result.append(vertex)\n",
        "\n",
        "    for neighbor in graph[vertex]:\n",
        "        if neighbor not in visited:\n",
        "            dfs_recursive(graph, neighbor, visited, result)\n",
        "\n",
        "    return result\n",
        "# Implementasi DFS (iteratif)\n",
        "def dfs_iterative(graph, start):\n",
        "    visited = set()\n",
        "    stack = [start]\n",
        "    result = []\n",
        "\n",
        "    while stack:\n",
        "        vertex = stack.pop()\n",
        "        if vertex not in visited:\n",
        "            visited.add(vertex)\n",
        "            result.append(vertex)\n",
        "            # Push neighbors in reverse order for proper traversal\n",
        "            for neighbor in reversed(graph[vertex]):\n",
        "                if neighbor not in visited:\n",
        "                    stack.append(neighbor)\n",
        "\n",
        "    return result\n",
        "# Menampilkan graf\n",
        "print(\"Representasi Graf:\")\n",
        "print_graph(graph)\n",
        "print()\n",
        "# Traversal dari simpul 'A'\n",
        "start_node = 'A'\n",
        "print(f\"BFS dari simpul {start_node}: {bfs(graph, start_node)}\")\n",
        "print(f\"DFS rekursif dari simpul {start_node}: {dfs_recursive(graph, start_node)}\")\n",
        "print(f\"DFS iteratif dari simpul {start_node}: {dfs_iterative(graph, start_node)}\")"
      ],
      "metadata": {
        "colab": {
          "base_uri": "https://localhost:8080/"
        },
        "id": "3nA0zjHaegcm",
        "outputId": "e0ab6968-aba2-47cb-d8d1-55c781de4e9c"
      },
      "execution_count": null,
      "outputs": [
        {
          "output_type": "stream",
          "name": "stdout",
          "text": [
            "Representasi Graf:\n",
            "A -> ['B', 'C', 'D']\n",
            "B -> ['A', 'C', 'E']\n",
            "C -> ['A', 'B', 'D']\n",
            "D -> ['B', 'E', 'A']\n",
            "E -> ['A', 'C']\n",
            "\n",
            "BFS dari simpul A: ['A', 'B', 'C', 'D', 'E']\n",
            "DFS rekursif dari simpul A: ['A', 'B', 'C', 'D', 'E']\n",
            "DFS iteratif dari simpul A: ['A', 'B', 'C', 'D', 'E']\n"
          ]
        }
      ]
    },
    {
      "cell_type": "code",
      "source": [
        "from collections import deque\n",
        "\n",
        "def bfs(graph, start):\n",
        "    \"\"\"\n",
        "    Fungsi BFS yang mengembalikan list urutan kunjungan simpul\n",
        "    :param graph: dictionary representasi adjacency list\n",
        "    :param start: simpul awal\n",
        "    :return: list urutan kunjungan simpul\n",
        "    \"\"\"\n",
        "    visited = []  # Menyimpan urutan kunjungan\n",
        "    queue = deque([start])\n",
        "    visited_set = set([start])  # Untuk pengecekan efisien\n",
        "\n",
        "    while queue:\n",
        "        vertex = queue.popleft()\n",
        "        visited.append(vertex)  # Tambahkan ke list urutan kunjungan\n",
        "\n",
        "        for neighbor in graph[vertex]:\n",
        "            if neighbor not in visited_set:\n",
        "                visited_set.add(neighbor)\n",
        "                queue.append(neighbor)\n",
        "\n",
        "    return visited\n",
        "# Contoh penggunaan\n",
        "graph = {\n",
        "    'A': ['B', 'C', 'D'],\n",
        "    'B': ['A', 'C', 'E'],\n",
        "    'C': ['A', 'B', 'D'],\n",
        "    'D': ['B', 'E', 'A'],\n",
        "    'E': ['A', 'C'],\n",
        "}\n",
        "# Panggil BFS dan simpan hasilnya\n",
        "bfs_result = bfs(graph, 'A')\n",
        "print(\"Urutan kunjungan BFS:\", bfs_result)"
      ],
      "metadata": {
        "colab": {
          "base_uri": "https://localhost:8080/"
        },
        "id": "qXzWSdmHekE_",
        "outputId": "5166d535-8d97-4455-f19a-d9659d69ceb4"
      },
      "execution_count": null,
      "outputs": [
        {
          "output_type": "stream",
          "name": "stdout",
          "text": [
            "Urutan kunjungan BFS: ['A', 'B', 'C', 'D', 'E']\n"
          ]
        }
      ]
    },
    {
      "cell_type": "code",
      "source": [
        "def find_path(graph, start, end):\n",
        "    \"\"\"\n",
        "    Mencari satu jalur dari start ke end menggunakan DFS\n",
        "    :param graph: dictionary representasi adjacency list\n",
        "    :param start: simpul awal\n",
        "    :param end: simpul tujuan\n",
        "    :return: list jalur dari start ke end, atau None jika tidak ditemukan\n",
        "    \"\"\"\n",
        "    stack = [(start, [start])]  # Stack berisi tuple (current_node, path)\n",
        "    visited = set()\n",
        "    while stack:\n",
        "        current_node, path = stack.pop()\n",
        "\n",
        "        if current_node == end:\n",
        "            return path\n",
        "\n",
        "        if current_node not in visited:\n",
        "            visited.add(current_node)\n",
        "\n",
        "            # Push tetangga ke stack dengan path yang diperbarui\n",
        "            for neighbor in reversed(graph[current_node]):\n",
        "                if neighbor not in visited:\n",
        "                    stack.append((neighbor, path + [neighbor]))\n",
        "\n",
        "    return None  # Tidak ditemukan jalur\n",
        "# Contoh penggunaan\n",
        "graph = {\n",
        "    'A': ['B', 'C', 'D'],\n",
        "    'B': ['A', 'C', 'E'],\n",
        "    'C': ['A', 'B', 'D'],\n",
        "    'D': ['B', 'E', 'A'],\n",
        "    'E': ['A', 'C'],\n",
        "}\n",
        "# Cari jalur dari 'A' ke 'E'\n",
        "path = find_path(graph, 'A', 'E')\n",
        "print(\"Jalur dari A ke E:\", path)  # Output: ['A', 'D', 'E'] atau variasi lainnya\n",
        "# Cari jalur yang tidak ada\n",
        "path = find_path(graph, 'A', 'F')\n",
        "print(\"Jalur dari A ke F:\", path)  # Output: None"
      ],
      "metadata": {
        "colab": {
          "base_uri": "https://localhost:8080/"
        },
        "id": "dZmH8E5RetkI",
        "outputId": "1511a178-3f42-46f6-be1d-6de00cc33816"
      },
      "execution_count": null,
      "outputs": [
        {
          "output_type": "stream",
          "name": "stdout",
          "text": [
            "Jalur dari A ke E: ['A', 'B', 'C', 'D', 'E']\n",
            "Jalur dari A ke F: None\n"
          ]
        }
      ]
    },
    {
      "cell_type": "code",
      "source": [
        "def is_connected(graph):\n",
        "    \"\"\"\n",
        "    Mengecek apakah semua simpul dalam graf saling terhubung (graf terhubung)\n",
        "    :param graph: dictionary representasi adjacency list\n",
        "    :return: True jika graf terhubung, False jika tidak\n",
        "    \"\"\"\n",
        "    if not graph:  # Jika graf kosong\n",
        "        return True\n",
        "\n",
        "    start_node = next(iter(graph))  # Ambil simpul pertama sebagai starting point\n",
        "    visited = set()\n",
        "\n",
        "    # DFS rekursif untuk menelusuri semua simpul yang terhubung\n",
        "    def dfs(node):\n",
        "        visited.add(node)\n",
        "        for neighbor in graph[node]:\n",
        "            if neighbor not in visited:\n",
        "                dfs(neighbor)\n",
        "\n",
        "    dfs(start_node)\n",
        "\n",
        "    # Bandingkan dengan semua simpul dalam graf\n",
        "    return len(visited) == len(graph)\n",
        "\n",
        "    # Contoh penggunaan\n",
        "graph_connected = {\n",
        "    'A': ['B', 'C'],\n",
        "    'B': ['A', 'C'],\n",
        "    'C': ['A', 'B', 'D'],\n",
        "    'D': ['C']\n",
        "}\n",
        "graph_disconnected = {\n",
        "    'A': ['B'],\n",
        "    'B': ['A'],\n",
        "    'C': ['D'],\n",
        "    'D': ['C']\n",
        "}\n",
        "print(\"Graph 1 terhubung?\", is_connected(graph_connected))    # Output: True\n",
        "print(\"Graph 2 terhubung?\", is_connected(graph_disconnected)) # Output: False"
      ],
      "metadata": {
        "colab": {
          "base_uri": "https://localhost:8080/"
        },
        "id": "7RRj9F6Mey2p",
        "outputId": "e7bc2eb0-3e92-46cf-a2f9-0a1e9a4873aa"
      },
      "execution_count": null,
      "outputs": [
        {
          "output_type": "stream",
          "name": "stdout",
          "text": [
            "Graph 1 terhubung? True\n",
            "Graph 2 terhubung? False\n"
          ]
        }
      ]
    }
  ]
}