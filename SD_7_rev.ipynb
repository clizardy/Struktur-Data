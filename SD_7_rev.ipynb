{
  "nbformat": 4,
  "nbformat_minor": 0,
  "metadata": {
    "colab": {
      "provenance": [],
      "authorship_tag": "ABX9TyMHdQOZK5JS/XQSvQH9/4Ga",
      "include_colab_link": true
    },
    "kernelspec": {
      "name": "python3",
      "display_name": "Python 3"
    },
    "language_info": {
      "name": "python"
    }
  },
  "cells": [
    {
      "cell_type": "markdown",
      "metadata": {
        "id": "view-in-github",
        "colab_type": "text"
      },
      "source": [
        "<a href=\"https://colab.research.google.com/github/clizardy/Struktur-Data/blob/main/SD_7_rev.ipynb\" target=\"_parent\"><img src=\"https://colab.research.google.com/assets/colab-badge.svg\" alt=\"Open In Colab\"/></a>"
      ]
    },
    {
      "cell_type": "code",
      "execution_count": 1,
      "metadata": {
        "colab": {
          "base_uri": "https://localhost:8080/"
        },
        "id": "xxT0q0YaaoUN",
        "outputId": "82f21f29-4024-4137-851c-e9aba0cd72eb"
      },
      "outputs": [
        {
          "output_type": "stream",
          "name": "stdout",
          "text": [
            "Hasil inorder traversal dari binary tree:\n",
            "42513"
          ]
        }
      ],
      "source": [
        "class Node:\n",
        "    def __init__(self, data):\n",
        "        self.data = data\n",
        "        self.left = None\n",
        "        self.right = None\n",
        "\n",
        "# Membuat tree secara manual\n",
        "root = Node(1)\n",
        "root.left = Node(2)\n",
        "root.right = Node(3)\n",
        "root.left.left = Node(4)\n",
        "root.left.right = Node(5)\n",
        "\n",
        "# Fungsi inorder traversal\n",
        "def inorder(node):\n",
        "    if node:\n",
        "        inorder(node.left)\n",
        "        print(node.data, end='')\n",
        "        inorder(node.right)\n",
        "\n",
        "print(\"Hasil inorder traversal dari binary tree:\")\n",
        "inorder(root)"
      ]
    },
    {
      "cell_type": "code",
      "source": [
        "class Node:\n",
        "    def __init__(self, data):\n",
        "        self.data = data\n",
        "        self.left = None\n",
        "        self.right = None\n",
        "\n",
        "class BinarySearchTree:\n",
        "    def __init__(self):\n",
        "        self.root = None\n",
        "\n",
        "    def insert(self, root, data):\n",
        "        if root is None:\n",
        "            return Node(data)\n",
        "        if data < root.data:\n",
        "            root.left = self.insert(root.left, data)\n",
        "        else:\n",
        "            root.right = self.insert(root.right, data)\n",
        "        return root\n",
        "\n",
        "bst = BinarySearchTree()\n",
        "root = None\n",
        "data_list = [50, 30, 70, 20, 40, 60, 80]\n",
        "for value in data_list:\n",
        "    root = bst.insert(root, value)"
      ],
      "metadata": {
        "id": "n2-isIWJaxTj"
      },
      "execution_count": 2,
      "outputs": []
    },
    {
      "cell_type": "code",
      "source": [
        "# Struktur Tree berdasarkan identitas saya\n",
        "class Node:\n",
        "    def __init__(self, data):\n",
        "        self.data = data\n",
        "        self.left = None\n",
        "        self.right = None\n",
        "\n",
        "# Data identitas\n",
        "nama = \"Ronald Zuni Bachtiar\"\n",
        "npm = \"2420506032\"\n",
        "huruf_vokal = sum(1 for char in nama.lower() if char in 'aiueo')\n",
        "dd, mm = 29, 7\n",
        "\n",
        "# Membangun tree\n",
        "root = Node(len(nama.replace(\" \", \"\")))  # Root: jumlah huruf nama\n",
        "root.left = Node(huruf_vokal)            # Anak kiri: huruf vokal\n",
        "root.right = Node(int(npm[-2:]))         # Anak kanan: 2 digit NPM\n",
        "root.left.left = Node(dd)                # Cucu kiri: tanggal lahir (DD)\n",
        "root.right.right = Node(mm)              # Cucu kanan: bulan lahir (MM)\n",
        "\n",
        "# Fungsi inorder traversal\n",
        "def inorder(node):\n",
        "    if node:\n",
        "        inorder(node.left)\n",
        "        print(node.data, end=' ')\n",
        "        inorder(node.right)\n",
        "\n",
        "print(\"Hasil Inorder Traversal:\")\n",
        "inorder(root)"
      ],
      "metadata": {
        "colab": {
          "base_uri": "https://localhost:8080/"
        },
        "id": "F4XuKLqta1Sp",
        "outputId": "22a2dfe1-4167-44cf-f4dd-310657eb0683"
      },
      "execution_count": 4,
      "outputs": [
        {
          "output_type": "stream",
          "name": "stdout",
          "text": [
            "Hasil Inorder Traversal:\n",
            "29 7 18 32 7 "
          ]
        }
      ]
    },
    {
      "cell_type": "code",
      "source": [
        "class Node:\n",
        "    def __init__(self, data):\n",
        "        self.data = data\n",
        "        self.left = None\n",
        "        self.right = None"
      ],
      "metadata": {
        "id": "Gsuxnr8YazVu"
      },
      "execution_count": 5,
      "outputs": []
    },
    {
      "cell_type": "code",
      "source": [
        "class BST:\n",
        "    def __init__(self):\n",
        "        self.root = None\n",
        "    def insert(self, root, data):\n",
        "        if root is None:\n",
        "            return Node(data)\n",
        "        if data < root.data:\n",
        "            root.left = self.insert(root.left, data)\n",
        "        else:\n",
        "            root.right = self.insert(root.right, data)\n",
        "        return root\n",
        "    # Fungsi traversal\n",
        "    def inorder(self, node):\n",
        "        if node:\n",
        "            self.inorder(node.left)\n",
        "            print(node.data, end=' ')\n",
        "            self.inorder(node.right)\n",
        "    def preorder(self, node):\n",
        "        if node:\n",
        "            print(node.data, end=' ')\n",
        "            self.preorder(node.left)\n",
        "            self.preorder(node.right)\n",
        "    def postorder(self, node):\n",
        "        if node:\n",
        "            self.postorder(node.left)\n",
        "            self.postorder(node.right)\n",
        "            print(node.data, end=' ')\n",
        "    def search(self, root, key):\n",
        "        if root is None or root.data == key:\n",
        "            return root\n",
        "        if key < root.data:\n",
        "            return self.search(root.left, key)\n",
        "        return self.search(root.right, key)\n",
        "# Data unik\n",
        "data_list = [\n",
        "    6,\n",
        "    29, 7,\n",
        "    ord('Y'), ord('O'),\n",
        "    100, 42\n",
        "]\n",
        "# Membangun BST\n",
        "bst = BST()\n",
        "root = None\n",
        "for num in data_list:\n",
        "    root = bst.insert(root, num)\n",
        "# Traversal\n",
        "print(\"Inorder (terurut):\")\n",
        "bst.inorder(root)\n",
        "print(\"\\nPreorder (root awal):\")\n",
        "bst.preorder(root)\n",
        "print(\"\\nPostorder (root akhir):\")\n",
        "bst.postorder(root)\n",
        "# Pencarian\n",
        "print(\"\\n\\nHasil Pencarian:\")\n",
        "target1 = 6\n",
        "target2 = 99\n",
        "for target in [target1, target2]:\n",
        "    result = bst.search(root, target)\n",
        "    print(f\"{target}: {'Ditemukan' if result else 'Tidak ditemukan'}\")"
      ],
      "metadata": {
        "colab": {
          "base_uri": "https://localhost:8080/"
        },
        "id": "NjNtH05xbIU8",
        "outputId": "b94e1ded-de47-445d-edae-9a741ad54353"
      },
      "execution_count": 6,
      "outputs": [
        {
          "output_type": "stream",
          "name": "stdout",
          "text": [
            "Inorder (terurut):\n",
            "6 7 29 42 79 89 100 \n",
            "Preorder (root awal):\n",
            "6 29 7 89 79 42 100 \n",
            "Postorder (root akhir):\n",
            "7 42 79 100 89 29 6 \n",
            "\n",
            "Hasil Pencarian:\n",
            "6: Ditemukan\n",
            "99: Tidak ditemukan\n"
          ]
        }
      ]
    },
    {
      "cell_type": "code",
      "source": [
        "class Node:\n",
        "    def __init__(self, data):\n",
        "        self.data = data\n",
        "        self.left = None\n",
        "        self.right = None\n",
        "\n",
        "class BST:\n",
        "    def __init__(self):\n",
        "        self.root = None\n",
        "\n",
        "    def insert(self, root, data):\n",
        "        if root is None:\n",
        "            return Node(data)\n",
        "        if data < root.data:\n",
        "            root.left = self.insert(root.left, data)\n",
        "        else:\n",
        "            root.right = self.insert(root.right, data)\n",
        "        return root\n",
        "\n",
        "    # Fungsi traversal\n",
        "    def inorder(self, node):\n",
        "        if node:\n",
        "            self.inorder(node.left)\n",
        "            print(node.data, end=' ')\n",
        "            self.inorder(node.right)\n",
        "\n",
        "    def preorder(self, node):\n",
        "        if node:\n",
        "            print(node.data, end=' ')\n",
        "            self.preorder(node.left)\n",
        "            self.preorder(node.right)\n",
        "\n",
        "    def postorder(self, node):\n",
        "        if node:\n",
        "            self.postorder(node.left)\n",
        "            self.postorder(node.right)\n",
        "            print(node.data, end=' ')\n",
        "\n",
        "    def search(self, root, key):\n",
        "        if root is None or root.data == key:\n",
        "            return root\n",
        "        if key < root.data:\n",
        "            return self.search(root.left, key)\n",
        "        return self.search(root.right, key)\n",
        "\n",
        "# Data unik\n",
        "data_list = [\n",
        "    6,\n",
        "    29, 7,\n",
        "    ord('Y'), ord('O'),\n",
        "    100, 42\n",
        "]\n",
        "\n",
        "# Membangun BST\n",
        "bst = BST()\n",
        "root = None\n",
        "for num in data_list:\n",
        "    root = bst.insert(root, num)\n",
        "\n",
        "# Traversal\n",
        "print(\"Inorder (terurut):\")\n",
        "bst.inorder(root)\n",
        "print(\"\\nPreorder (root awal):\")\n",
        "bst.preorder(root)\n",
        "print(\"\\nPostorder (root akhir):\")\n",
        "bst.postorder(root)\n",
        "\n",
        "# Pencarian\n",
        "print(\"\\n\\nHasil Pencarian:\")\n",
        "target1 = 6\n",
        "target2 = 99\n",
        "for target in [target1, target2]:\n",
        "    result = bst.search(root, target)\n",
        "    print(f\"{target}: {'Ditemukan' if result else 'Tidak ditemukan'}\")"
      ],
      "metadata": {
        "colab": {
          "base_uri": "https://localhost:8080/"
        },
        "id": "EuLJIN0FbLfF",
        "outputId": "c58183f7-fac6-4a13-ee8c-c56d12fe569e"
      },
      "execution_count": 7,
      "outputs": [
        {
          "output_type": "stream",
          "name": "stdout",
          "text": [
            "Inorder (terurut):\n",
            "6 7 29 42 79 89 100 \n",
            "Preorder (root awal):\n",
            "6 29 7 89 79 42 100 \n",
            "Postorder (root akhir):\n",
            "7 42 79 100 89 29 6 \n",
            "\n",
            "Hasil Pencarian:\n",
            "6: Ditemukan\n",
            "99: Tidak ditemukan\n"
          ]
        }
      ]
    }
  ]
}