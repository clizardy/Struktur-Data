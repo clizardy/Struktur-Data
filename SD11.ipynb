{
  "nbformat": 4,
  "nbformat_minor": 0,
  "metadata": {
    "colab": {
      "provenance": [],
      "authorship_tag": "ABX9TyNNR8653du14qTABZcIEY3B",
      "include_colab_link": true
    },
    "kernelspec": {
      "name": "python3",
      "display_name": "Python 3"
    },
    "language_info": {
      "name": "python"
    }
  },
  "cells": [
    {
      "cell_type": "markdown",
      "metadata": {
        "id": "view-in-github",
        "colab_type": "text"
      },
      "source": [
        "<a href=\"https://colab.research.google.com/github/clizardy/Struktur-Data/blob/main/SD11.ipynb\" target=\"_parent\"><img src=\"https://colab.research.google.com/assets/colab-badge.svg\" alt=\"Open In Colab\"/></a>"
      ]
    },
    {
      "cell_type": "code",
      "execution_count": 1,
      "metadata": {
        "colab": {
          "base_uri": "https://localhost:8080/"
        },
        "id": "s3JYNh8ufVmM",
        "outputId": "cc8b4dbb-a929-4321-a690-44c84b00f1db"
      },
      "outputs": [
        {
          "output_type": "stream",
          "name": "stdout",
          "text": [
            "Kembalian untuk Rp7500: [5000, 2000, 500]\n"
          ]
        }
      ],
      "source": [
        "def greedy_change(amount, coins):\n",
        "    result = []\n",
        "    for coin in coins:\n",
        "        while amount >= coin:\n",
        "            amount -= coin\n",
        "            result.append(coin)\n",
        "    return result\n",
        "\n",
        "# Daftar nominal koin yang tersedia\n",
        "coins = [5000, 2000, 1000, 500, 200, 100]\n",
        "\n",
        "# Jumlah uang yang akan dikembalikan\n",
        "amount = 7500\n",
        "\n",
        "# Menentukan kembalian menggunakan algoritma Greedy\n",
        "change = greedy_change(amount, coins)\n",
        "\n",
        "print(f\"Kembalian untuk Rp{amount}: {change}\")"
      ]
    }
  ]
}